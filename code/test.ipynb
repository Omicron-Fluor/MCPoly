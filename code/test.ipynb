{
 "cells": [
  {
   "cell_type": "code",
   "execution_count": 3,
   "id": "72d40ee2-35db-406a-b753-15d759affae1",
   "metadata": {},
   "outputs": [
    {
     "name": "stdout",
     "output_type": "stream",
     "text": [
      "SI5_0.5.out\n"
     ]
    },
    {
     "data": {
      "application/3dmoljs_load.v0": "<div id=\"3dmolviewer_1682416699346696\"  style=\"position: relative; width: 300px; height: 300px\">\n        <p id=\"3dmolwarning_1682416699346696\" style=\"background-color:#ffcccc;color:black\">You appear to be running in JupyterLab (or JavaScript failed to load for some other reason).  You need to install the 3dmol extension: <br>\n        <tt>jupyter labextension install jupyterlab_3dmol</tt></p>\n        </div>\n<script>\n\nvar loadScriptAsync = function(uri){\n  return new Promise((resolve, reject) => {\n    //this is to ignore the existence of requirejs amd\n    var savedexports, savedmodule;\n    if (typeof exports !== 'undefined') savedexports = exports;\n    else exports = {}\n    if (typeof module !== 'undefined') savedmodule = module;\n    else module = {}\n\n    var tag = document.createElement('script');\n    tag.src = uri;\n    tag.async = true;\n    tag.onload = () => {\n        exports = savedexports;\n        module = savedmodule;\n        resolve();\n    };\n  var firstScriptTag = document.getElementsByTagName('script')[0];\n  firstScriptTag.parentNode.insertBefore(tag, firstScriptTag);\n});\n};\n\nif(typeof $3Dmolpromise === 'undefined') {\n$3Dmolpromise = null;\n  $3Dmolpromise = loadScriptAsync('https://cdn.jsdelivr.net/npm/3dmol@latest/build/3Dmol-min.min.js');\n}\n\nvar viewer_1682416699346696 = null;\nvar warn = document.getElementById(\"3dmolwarning_1682416699346696\");\nif(warn) {\n    warn.parentNode.removeChild(warn);\n}\n$3Dmolpromise.then(function() {\nviewer_1682416699346696 = $3Dmol.createViewer(document.getElementById(\"3dmolviewer_1682416699346696\"),{backgroundColor:\"white\"});\nviewer_1682416699346696.zoomTo();\n\tviewer_1682416699346696.addModel(\"\\n     RDKit          3D\\n\\n 59 60  0  0  0  0  0  0  0  0999 V2000\\n    1.3485   -1.0427    2.5778 C   0  0  0  0  0  0  0  0  0  0  0  0\\n    0.2197   -1.2204    1.5685 C   0  0  0  0  0  3  0  0  0  0  0  0\\n   -0.4450   -0.0928    1.0642 C   0  0  0  0  0  3  0  0  0  0  0  0\\n   -0.1959    0.8882    1.4754 H   0  0  0  0  0  0  0  0  0  0  0  0\\n   -1.4321   -0.1805    0.0610 C   0  0  0  0  0  3  0  0  0  0  0  0\\n   -2.1001    1.0288   -0.5045 C   0  0  0  0  0  3  0  0  0  0  0  0\\n   -1.7747   -1.4667   -0.3971 C   0  0  0  0  0  3  0  0  0  0  0  0\\n   -2.5423   -1.5848   -1.1615 H   0  0  0  0  0  0  0  0  0  0  0  0\\n   -1.1293   -2.5990    0.0990 C   0  0  0  0  0  3  0  0  0  0  0  0\\n   -1.4048   -3.5852   -0.2780 H   0  0  0  0  0  0  0  0  0  0  0  0\\n   -0.1317   -2.4822    1.0680 C   0  0  0  0  0  3  0  0  0  0  0  0\\n    0.3682   -3.3789    1.4377 H   0  0  0  0  0  0  0  0  0  0  0  0\\n    2.6803   -0.8030    1.8478 C   0  0  0  0  0  0  0  0  0  0  0  0\\n    1.4850   -2.2106    3.5817 C   0  0  0  0  0  0  0  0  0  0  0  0\\n    1.1137   -0.1348    3.1609 H   0  0  0  0  0  0  0  0  0  0  0  0\\n    2.4206   -1.6160    5.0656 S   0  0  0  0  0  0  0  0  0  0  0  0\\n    2.0360   -3.0619    3.1597 H   0  0  0  0  0  0  0  0  0  0  0  0\\n    0.5056   -2.5625    3.9334 H   0  0  0  0  0  0  0  0  0  0  0  0\\n    3.4940   -0.6408    2.5690 H   0  0  0  0  0  0  0  0  0  0  0  0\\n    2.6141    0.0755    1.1928 H   0  0  0  0  0  0  0  0  0  0  0  0\\n    2.9334   -1.6729    1.2235 H   0  0  0  0  0  0  0  0  0  0  0  0\\n   -3.4773    0.8556   -1.0920 C   0  0  0  0  0  0  0  0  0  0  0  0\\n   -1.4939    2.2293   -0.5083 C   0  0  0  0  0  3  0  0  0  0  0  0\\n   -0.4797    2.3673   -0.1334 H   0  0  0  0  0  0  0  0  0  0  0  0\\n   -1.9946    3.1110   -0.9100 H   0  0  0  0  0  0  0  0  0  0  0  0\\n    4.1838   -2.6547    5.2550 S   0  0  0  0  0  0  0  0  0  0  0  0\\n    3.9470   -4.1207    6.7663 S   0  0  0  0  0  0  0  0  0  0  0  0\\n    4.0874   -6.0743    6.0251 S   0  0  0  0  0  0  0  0  0  0  0  0\\n    6.0757   -6.6183    5.9514 S   0  0  0  0  0  0  0  0  0  0  0  0\\n    6.4024   -7.3858    7.6027 C   0  0  0  0  0  0  0  0  0  0  0  0\\n    7.8584   -7.8916    7.6623 C   0  0  0  0  0  0  0  0  0  0  0  0\\n    5.6893   -8.2090    7.7377 H   0  0  0  0  0  0  0  0  0  0  0  0\\n    6.2181   -6.6168    8.3652 H   0  0  0  0  0  0  0  0  0  0  0  0\\n    8.1324   -8.7721    8.8814 C   0  0  0  0  0  3  0  0  0  0  0  0\\n    8.8557   -6.7177    7.6345 C   0  0  0  0  0  0  0  0  0  0  0  0\\n    8.0340   -8.5141    6.7671 H   0  0  0  0  0  0  0  0  0  0  0  0\\n    9.8896   -7.0867    7.6492 H   0  0  0  0  0  0  0  0  0  0  0  0\\n    8.7123   -6.0791    8.5188 H   0  0  0  0  0  0  0  0  0  0  0  0\\n    8.7194   -6.0976    6.7375 H   0  0  0  0  0  0  0  0  0  0  0  0\\n    7.3942   -8.6556   10.0640 C   0  0  0  0  0  3  0  0  0  0  0  0\\n    7.7221   -9.4335   11.1792 C   0  0  0  0  0  3  0  0  0  0  0  0\\n    8.7943  -10.3178   11.1367 C   0  0  0  0  0  3  0  0  0  0  0  0\\n    9.5763  -10.4505    9.9720 C   0  0  0  0  0  3  0  0  0  0  0  0\\n    9.2064   -9.6804    8.8518 C   0  0  0  0  0  3  0  0  0  0  0  0\\n    6.5524   -7.9650   10.1228 H   0  0  0  0  0  0  0  0  0  0  0  0\\n    7.1240   -9.3526   12.0882 H   0  0  0  0  0  0  0  0  0  0  0  0\\n    9.0165  -10.9382   12.0051 H   0  0  0  0  0  0  0  0  0  0  0  0\\n   10.7408  -11.3834    9.9392 C   0  0  0  0  0  3  0  0  0  0  0  0\\n    9.7821   -9.7694    7.9280 H   0  0  0  0  0  0  0  0  0  0  0  0\\n   11.1592  -11.9236    8.5953 C   0  0  0  0  0  0  0  0  0  0  0  0\\n   11.4108  -11.7173   11.0563 C   0  0  0  0  0  3  0  0  0  0  0  0\\n   11.1608  -11.2987   12.0309 H   0  0  0  0  0  0  0  0  0  0  0  0\\n   12.2505  -12.4122   11.0191 H   0  0  0  0  0  0  0  0  0  0  0  0\\n   -4.1556    0.3589   -0.3819 H   0  0  0  0  0  0  0  0  0  0  0  0\\n   -3.4520    0.2321   -1.9997 H   0  0  0  0  0  0  0  0  0  0  0  0\\n   -3.9062    1.8267   -1.3687 H   0  0  0  0  0  0  0  0  0  0  0  0\\n   10.3090  -12.3802    8.0661 H   0  0  0  0  0  0  0  0  0  0  0  0\\n   11.9510  -12.6749    8.7053 H   0  0  0  0  0  0  0  0  0  0  0  0\\n   11.5473  -11.1232    7.9455 H   0  0  0  0  0  0  0  0  0  0  0  0\\n  1  2  1  0\\n  1 13  1  0\\n  1 14  1  0\\n  1 15  1  0\\n  2  3  1  0\\n  2 11  1  0\\n  3  4  1  0\\n  3  5  1  0\\n  5  6  1  0\\n  5  7  1  0\\n  6 22  1  0\\n  6 23  1  0\\n  7  8  1  0\\n  7  9  1  0\\n  9 10  1  0\\n  9 11  1  0\\n 11 12  1  0\\n 13 19  1  0\\n 13 20  1  0\\n 13 21  1  0\\n 14 16  1  0\\n 14 17  1  0\\n 14 18  1  0\\n 16 26  1  0\\n 22 54  1  0\\n 22 55  1  0\\n 22 56  1  0\\n 23 24  1  0\\n 23 25  1  0\\n 26 27  1  0\\n 27 28  1  0\\n 28 29  1  0\\n 29 30  1  0\\n 30 31  1  0\\n 30 32  1  0\\n 30 33  1  0\\n 31 34  1  0\\n 31 35  1  0\\n 31 36  1  0\\n 34 40  1  0\\n 34 44  1  0\\n 35 37  1  0\\n 35 38  1  0\\n 35 39  1  0\\n 40 41  1  0\\n 40 45  1  0\\n 41 42  1  0\\n 41 46  1  0\\n 42 43  1  0\\n 42 47  1  0\\n 43 44  1  0\\n 43 48  1  0\\n 44 49  1  0\\n 48 50  1  0\\n 48 51  1  0\\n 50 57  1  0\\n 50 58  1  0\\n 50 59  1  0\\n 51 52  1  0\\n 51 53  1  0\\nM  END\\n\",\"sdf\");\n\tviewer_1682416699346696.setStyle({\"stick\": {}});\n\tviewer_1682416699346696.zoomTo();\n\tviewer_1682416699346696.setStyle({\"sphere\": {\"radius\": 0.4}, \"stick\": {\"radius\": 0.1}});\nviewer_1682416699346696.render();\n});\n</script>",
      "text/html": [
       "<div id=\"3dmolviewer_1682416699346696\"  style=\"position: relative; width: 300px; height: 300px\">\n",
       "        <p id=\"3dmolwarning_1682416699346696\" style=\"background-color:#ffcccc;color:black\">You appear to be running in JupyterLab (or JavaScript failed to load for some other reason).  You need to install the 3dmol extension: <br>\n",
       "        <tt>jupyter labextension install jupyterlab_3dmol</tt></p>\n",
       "        </div>\n",
       "<script>\n",
       "\n",
       "var loadScriptAsync = function(uri){\n",
       "  return new Promise((resolve, reject) => {\n",
       "    //this is to ignore the existence of requirejs amd\n",
       "    var savedexports, savedmodule;\n",
       "    if (typeof exports !== 'undefined') savedexports = exports;\n",
       "    else exports = {}\n",
       "    if (typeof module !== 'undefined') savedmodule = module;\n",
       "    else module = {}\n",
       "\n",
       "    var tag = document.createElement('script');\n",
       "    tag.src = uri;\n",
       "    tag.async = true;\n",
       "    tag.onload = () => {\n",
       "        exports = savedexports;\n",
       "        module = savedmodule;\n",
       "        resolve();\n",
       "    };\n",
       "  var firstScriptTag = document.getElementsByTagName('script')[0];\n",
       "  firstScriptTag.parentNode.insertBefore(tag, firstScriptTag);\n",
       "});\n",
       "};\n",
       "\n",
       "if(typeof $3Dmolpromise === 'undefined') {\n",
       "$3Dmolpromise = null;\n",
       "  $3Dmolpromise = loadScriptAsync('https://cdn.jsdelivr.net/npm/3dmol@latest/build/3Dmol-min.min.js');\n",
       "}\n",
       "\n",
       "var viewer_1682416699346696 = null;\n",
       "var warn = document.getElementById(\"3dmolwarning_1682416699346696\");\n",
       "if(warn) {\n",
       "    warn.parentNode.removeChild(warn);\n",
       "}\n",
       "$3Dmolpromise.then(function() {\n",
       "viewer_1682416699346696 = $3Dmol.createViewer(document.getElementById(\"3dmolviewer_1682416699346696\"),{backgroundColor:\"white\"});\n",
       "viewer_1682416699346696.zoomTo();\n",
       "\tviewer_1682416699346696.addModel(\"\\n     RDKit          3D\\n\\n 59 60  0  0  0  0  0  0  0  0999 V2000\\n    1.3485   -1.0427    2.5778 C   0  0  0  0  0  0  0  0  0  0  0  0\\n    0.2197   -1.2204    1.5685 C   0  0  0  0  0  3  0  0  0  0  0  0\\n   -0.4450   -0.0928    1.0642 C   0  0  0  0  0  3  0  0  0  0  0  0\\n   -0.1959    0.8882    1.4754 H   0  0  0  0  0  0  0  0  0  0  0  0\\n   -1.4321   -0.1805    0.0610 C   0  0  0  0  0  3  0  0  0  0  0  0\\n   -2.1001    1.0288   -0.5045 C   0  0  0  0  0  3  0  0  0  0  0  0\\n   -1.7747   -1.4667   -0.3971 C   0  0  0  0  0  3  0  0  0  0  0  0\\n   -2.5423   -1.5848   -1.1615 H   0  0  0  0  0  0  0  0  0  0  0  0\\n   -1.1293   -2.5990    0.0990 C   0  0  0  0  0  3  0  0  0  0  0  0\\n   -1.4048   -3.5852   -0.2780 H   0  0  0  0  0  0  0  0  0  0  0  0\\n   -0.1317   -2.4822    1.0680 C   0  0  0  0  0  3  0  0  0  0  0  0\\n    0.3682   -3.3789    1.4377 H   0  0  0  0  0  0  0  0  0  0  0  0\\n    2.6803   -0.8030    1.8478 C   0  0  0  0  0  0  0  0  0  0  0  0\\n    1.4850   -2.2106    3.5817 C   0  0  0  0  0  0  0  0  0  0  0  0\\n    1.1137   -0.1348    3.1609 H   0  0  0  0  0  0  0  0  0  0  0  0\\n    2.4206   -1.6160    5.0656 S   0  0  0  0  0  0  0  0  0  0  0  0\\n    2.0360   -3.0619    3.1597 H   0  0  0  0  0  0  0  0  0  0  0  0\\n    0.5056   -2.5625    3.9334 H   0  0  0  0  0  0  0  0  0  0  0  0\\n    3.4940   -0.6408    2.5690 H   0  0  0  0  0  0  0  0  0  0  0  0\\n    2.6141    0.0755    1.1928 H   0  0  0  0  0  0  0  0  0  0  0  0\\n    2.9334   -1.6729    1.2235 H   0  0  0  0  0  0  0  0  0  0  0  0\\n   -3.4773    0.8556   -1.0920 C   0  0  0  0  0  0  0  0  0  0  0  0\\n   -1.4939    2.2293   -0.5083 C   0  0  0  0  0  3  0  0  0  0  0  0\\n   -0.4797    2.3673   -0.1334 H   0  0  0  0  0  0  0  0  0  0  0  0\\n   -1.9946    3.1110   -0.9100 H   0  0  0  0  0  0  0  0  0  0  0  0\\n    4.1838   -2.6547    5.2550 S   0  0  0  0  0  0  0  0  0  0  0  0\\n    3.9470   -4.1207    6.7663 S   0  0  0  0  0  0  0  0  0  0  0  0\\n    4.0874   -6.0743    6.0251 S   0  0  0  0  0  0  0  0  0  0  0  0\\n    6.0757   -6.6183    5.9514 S   0  0  0  0  0  0  0  0  0  0  0  0\\n    6.4024   -7.3858    7.6027 C   0  0  0  0  0  0  0  0  0  0  0  0\\n    7.8584   -7.8916    7.6623 C   0  0  0  0  0  0  0  0  0  0  0  0\\n    5.6893   -8.2090    7.7377 H   0  0  0  0  0  0  0  0  0  0  0  0\\n    6.2181   -6.6168    8.3652 H   0  0  0  0  0  0  0  0  0  0  0  0\\n    8.1324   -8.7721    8.8814 C   0  0  0  0  0  3  0  0  0  0  0  0\\n    8.8557   -6.7177    7.6345 C   0  0  0  0  0  0  0  0  0  0  0  0\\n    8.0340   -8.5141    6.7671 H   0  0  0  0  0  0  0  0  0  0  0  0\\n    9.8896   -7.0867    7.6492 H   0  0  0  0  0  0  0  0  0  0  0  0\\n    8.7123   -6.0791    8.5188 H   0  0  0  0  0  0  0  0  0  0  0  0\\n    8.7194   -6.0976    6.7375 H   0  0  0  0  0  0  0  0  0  0  0  0\\n    7.3942   -8.6556   10.0640 C   0  0  0  0  0  3  0  0  0  0  0  0\\n    7.7221   -9.4335   11.1792 C   0  0  0  0  0  3  0  0  0  0  0  0\\n    8.7943  -10.3178   11.1367 C   0  0  0  0  0  3  0  0  0  0  0  0\\n    9.5763  -10.4505    9.9720 C   0  0  0  0  0  3  0  0  0  0  0  0\\n    9.2064   -9.6804    8.8518 C   0  0  0  0  0  3  0  0  0  0  0  0\\n    6.5524   -7.9650   10.1228 H   0  0  0  0  0  0  0  0  0  0  0  0\\n    7.1240   -9.3526   12.0882 H   0  0  0  0  0  0  0  0  0  0  0  0\\n    9.0165  -10.9382   12.0051 H   0  0  0  0  0  0  0  0  0  0  0  0\\n   10.7408  -11.3834    9.9392 C   0  0  0  0  0  3  0  0  0  0  0  0\\n    9.7821   -9.7694    7.9280 H   0  0  0  0  0  0  0  0  0  0  0  0\\n   11.1592  -11.9236    8.5953 C   0  0  0  0  0  0  0  0  0  0  0  0\\n   11.4108  -11.7173   11.0563 C   0  0  0  0  0  3  0  0  0  0  0  0\\n   11.1608  -11.2987   12.0309 H   0  0  0  0  0  0  0  0  0  0  0  0\\n   12.2505  -12.4122   11.0191 H   0  0  0  0  0  0  0  0  0  0  0  0\\n   -4.1556    0.3589   -0.3819 H   0  0  0  0  0  0  0  0  0  0  0  0\\n   -3.4520    0.2321   -1.9997 H   0  0  0  0  0  0  0  0  0  0  0  0\\n   -3.9062    1.8267   -1.3687 H   0  0  0  0  0  0  0  0  0  0  0  0\\n   10.3090  -12.3802    8.0661 H   0  0  0  0  0  0  0  0  0  0  0  0\\n   11.9510  -12.6749    8.7053 H   0  0  0  0  0  0  0  0  0  0  0  0\\n   11.5473  -11.1232    7.9455 H   0  0  0  0  0  0  0  0  0  0  0  0\\n  1  2  1  0\\n  1 13  1  0\\n  1 14  1  0\\n  1 15  1  0\\n  2  3  1  0\\n  2 11  1  0\\n  3  4  1  0\\n  3  5  1  0\\n  5  6  1  0\\n  5  7  1  0\\n  6 22  1  0\\n  6 23  1  0\\n  7  8  1  0\\n  7  9  1  0\\n  9 10  1  0\\n  9 11  1  0\\n 11 12  1  0\\n 13 19  1  0\\n 13 20  1  0\\n 13 21  1  0\\n 14 16  1  0\\n 14 17  1  0\\n 14 18  1  0\\n 16 26  1  0\\n 22 54  1  0\\n 22 55  1  0\\n 22 56  1  0\\n 23 24  1  0\\n 23 25  1  0\\n 26 27  1  0\\n 27 28  1  0\\n 28 29  1  0\\n 29 30  1  0\\n 30 31  1  0\\n 30 32  1  0\\n 30 33  1  0\\n 31 34  1  0\\n 31 35  1  0\\n 31 36  1  0\\n 34 40  1  0\\n 34 44  1  0\\n 35 37  1  0\\n 35 38  1  0\\n 35 39  1  0\\n 40 41  1  0\\n 40 45  1  0\\n 41 42  1  0\\n 41 46  1  0\\n 42 43  1  0\\n 42 47  1  0\\n 43 44  1  0\\n 43 48  1  0\\n 44 49  1  0\\n 48 50  1  0\\n 48 51  1  0\\n 50 57  1  0\\n 50 58  1  0\\n 50 59  1  0\\n 51 52  1  0\\n 51 53  1  0\\nM  END\\n\",\"sdf\");\n",
       "\tviewer_1682416699346696.setStyle({\"stick\": {}});\n",
       "\tviewer_1682416699346696.zoomTo();\n",
       "\tviewer_1682416699346696.setStyle({\"sphere\": {\"radius\": 0.4}, \"stick\": {\"radius\": 0.1}});\n",
       "viewer_1682416699346696.render();\n",
       "});\n",
       "</script>"
      ]
     },
     "metadata": {},
     "output_type": "display_data"
    }
   ],
   "source": [
    "from MCPoly import status\n",
    "import os\n",
    "\n",
    "#a=status('../Sulphur','SID2_3.5').status()\n",
    "a=status('SI5_0.5','../Sulphur').figure(5)"
   ]
  },
  {
   "cell_type": "code",
   "execution_count": 2,
   "id": "c7075fba-4a5d-4fa3-89a1-99b594719706",
   "metadata": {},
   "outputs": [
    {
     "ename": "ModuleNotFoundError",
     "evalue": "No module named 'MCPoly'",
     "output_type": "error",
     "traceback": [
      "\u001b[0;31m---------------------------------------------------------------------------\u001b[0m",
      "\u001b[0;31mModuleNotFoundError\u001b[0m                       Traceback (most recent call last)",
      "\u001b[0;32m/var/folders/hp/h3x3qmks4kn3qdcv21z5pm140000gq/T/ipykernel_1832/3390553818.py\u001b[0m in \u001b[0;36m<module>\u001b[0;34m\u001b[0m\n\u001b[0;32m----> 1\u001b[0;31m \u001b[0;32mfrom\u001b[0m \u001b[0mMCPoly\u001b[0m \u001b[0;32mimport\u001b[0m \u001b[0mstatus\u001b[0m\u001b[0;34m\u001b[0m\u001b[0;34m\u001b[0m\u001b[0m\n\u001b[0m\u001b[1;32m      2\u001b[0m \u001b[0;32mimport\u001b[0m \u001b[0mos\u001b[0m\u001b[0;34m\u001b[0m\u001b[0;34m\u001b[0m\u001b[0m\n\u001b[1;32m      3\u001b[0m \u001b[0;34m\u001b[0m\u001b[0m\n\u001b[1;32m      4\u001b[0m \u001b[0ma\u001b[0m\u001b[0;34m=\u001b[0m\u001b[0mstatus\u001b[0m\u001b[0;34m(\u001b[0m\u001b[0;34m'SI5_0.5'\u001b[0m\u001b[0;34m,\u001b[0m\u001b[0;34m'../Sulphur'\u001b[0m\u001b[0;34m)\u001b[0m\u001b[0;34m.\u001b[0m\u001b[0mstatus\u001b[0m\u001b[0;34m(\u001b[0m\u001b[0mfigureonly\u001b[0m\u001b[0;34m=\u001b[0m\u001b[0;32mTrue\u001b[0m\u001b[0;34m)\u001b[0m\u001b[0;34m\u001b[0m\u001b[0;34m\u001b[0m\u001b[0m\n\u001b[1;32m      5\u001b[0m \u001b[0mprint\u001b[0m\u001b[0;34m(\u001b[0m\u001b[0ma\u001b[0m\u001b[0;34m)\u001b[0m\u001b[0;34m\u001b[0m\u001b[0;34m\u001b[0m\u001b[0m\n",
      "\u001b[0;31mModuleNotFoundError\u001b[0m: No module named 'MCPoly'"
     ]
    }
   ],
   "source": [
    "from MCPoly import status\n",
    "import os\n",
    "\n",
    "a=status('SI5_0.5','../Sulphur').status(figureonly=True)\n",
    "print(a)"
   ]
  },
  {
   "cell_type": "code",
   "execution_count": 1,
   "id": "48ef9d31-11c7-4591-b49c-d95c3d099d38",
   "metadata": {},
   "outputs": [
    {
     "name": "stdout",
     "output_type": "stream",
     "text": [
      "-10340.089763\n",
      "-6488244.299661795\n",
      "-6488149.6926399\n",
      "-94.60702189400001\n",
      "0.071053\n",
      "-0.000617\n",
      "76\n"
     ]
    }
   ],
   "source": [
    "from MCPoly.status import status\n",
    "\n",
    "a=status('SIVQ36_1.000')\n",
    "print(a.energy())\n",
    "print(a.gibbs(unit='kcal/mol'))\n",
    "print(a.enthalpy(unit='kcal/mol'))\n",
    "print(a.entropy_correction(unit='kcal/mol'))\n",
    "print(a.mulliken_charge(0))\n",
    "print(a.loewdin_charge(63))\n",
    "print(a.atom_num())"
   ]
  },
  {
   "cell_type": "code",
   "execution_count": 2,
   "id": "b1a851a2-09a4-4114-8a68-79cfc2d2c3f0",
   "metadata": {},
   "outputs": [
    {
     "data": {
      "application/vnd.jupyter.widget-view+json": {
       "model_id": "8e5840d2fed5476b8438a2cf2e654bfb",
       "version_major": 2,
       "version_minor": 0
      },
      "text/plain": [
       "VBox(children=(Dropdown(description='Atomic Charge Type', options=('Mulliken', 'Loewdin'), value='Mulliken'), …"
      ]
     },
     "metadata": {},
     "output_type": "display_data"
    }
   ],
   "source": [
    "from MCPoly.status import status\n",
    "a=status('CA_2')\n",
    "a.figurecharge()"
   ]
  },
  {
   "cell_type": "code",
   "execution_count": null,
   "id": "9db72ead-8457-4035-93b9-1015a91f4b51",
   "metadata": {},
   "outputs": [],
   "source": [
    "from MCPoly import status"
   ]
  },
  {
   "cell_type": "code",
   "execution_count": 3,
   "id": "68432ea6-8fa5-4a19-86e0-dae4ce6e1884",
   "metadata": {},
   "outputs": [
    {
     "name": "stdout",
     "output_type": "stream",
     "text": [
      "2\n"
     ]
    }
   ],
   "source": [
    "from MCPoly.status import status\n",
    "import os\n",
    "\n",
    "a=status('SI5_0.5','../Sulphur').status(figureonly=True,statusonly=True)\n",
    "print(a)"
   ]
  },
  {
   "cell_type": "code",
   "execution_count": 7,
   "id": "5ccad818-af62-4533-898e-2acb2efb538e",
   "metadata": {},
   "outputs": [
    {
     "data": {
      "text/plain": [
       "<Popen: returncode: None args: ['/Users/cxs454/opt/anaconda3/envs/test/bin/p...>"
      ]
     },
     "execution_count": 7,
     "metadata": {},
     "output_type": "execute_result"
    }
   ],
   "source": [
    "from ase.io import read, write\n",
    "from ase.visualize import view\n",
    "from MCPoly.moldraw import sub_selection\n",
    "\n",
    "atoms=read('../Et.xyz')\n",
    "atoms=sub_selection('D5',atoms,7)\n",
    "view(atoms)"
   ]
  },
  {
   "cell_type": "code",
   "execution_count": 2,
   "id": "eed86b16-6ed7-4665-b716-4387f480f7b8",
   "metadata": {},
   "outputs": [
    {
     "data": {
      "text/plain": [
       "<Popen: returncode: None args: ['/Users/cxs454/opt/anaconda3/envs/test/bin/p...>"
      ]
     },
     "execution_count": 2,
     "metadata": {},
     "output_type": "execute_result"
    }
   ],
   "source": [
    "from MCPoly.moldraw import molecule\n",
    "\n",
    "atoms=molecule('Et','../')\n",
    "atoms.sub('D5',7)\n",
    "atoms.sub('Me',4)\n",
    "atoms.geoview()"
   ]
  },
  {
   "cell_type": "code",
   "execution_count": 1,
   "id": "fb8f7eea-824d-46ef-a2b9-2bfa7b7c0984",
   "metadata": {},
   "outputs": [
    {
     "name": "stdout",
     "output_type": "stream",
     "text": [
      "['SI3_2.0.xyz', 'SI3_0.0.xyz', 'SI3_0.5.xyz', 'SI3_2.5.xyz', 'SI3_1.0.xyz', 'SI3_3.0.xyz', 'SI3_1.5.xyz']\n",
      "   Strain Length(%)  Stress Force(nN)\n",
      "0           1.00000               0.0\n",
      "1           2.80478               0.5\n",
      "2           2.94094               1.0\n",
      "3           2.99338               1.5\n",
      "4           3.04726               2.0\n",
      "5           3.11094               2.5\n"
     ]
    },
    {
     "data": {
      "image/png": "[encoded data removed]",
      "text/plain": [
       "<Figure size 640x480 with 1 Axes>"
      ]
     },
     "metadata": {},
     "output_type": "display_data"
    }
   ],
   "source": [
    "from MCPoly.sscurve import single\n",
    "\n",
    "poly1=single('SI3')\n",
    "poly1.curve(5,40)"
   ]
  },
  {
   "cell_type": "code",
   "execution_count": 1,
   "id": "20fafceb-c643-42e6-805e-e6e393eee00b",
   "metadata": {},
   "outputs": [
    {
     "name": "stdout",
     "output_type": "stream",
     "text": [
      "['PDMS_4.xyz', 'PDMS_4.5.xyz', 'PDMS_2.xyz', 'PDMS_3.xyz', 'PDMS_1.xyz', 'PDMS_0.xyz']\n",
      "   Strain Length(%)  Stress Force(nN)\n",
      "0           1.00000               0.0\n",
      "1           1.08612               1.0\n",
      "2           1.13711               2.0\n",
      "3           1.19355               3.0\n",
      "5           1.26524               4.0\n"
     ]
    },
    {
     "data": {
      "image/png": "[encoded data removed]",
      "text/plain": [
       "<Figure size 640x480 with 1 Axes>"
      ]
     },
     "metadata": {},
     "output_type": "display_data"
    }
   ],
   "source": [
    "from MCPoly.sscurve import single\n",
    "\n",
    "poly1=single('PDMS')\n",
    "poly1.autocurve(savefig=False,savedata=False)"
   ]
  },
  {
   "cell_type": "code",
   "execution_count": 1,
   "id": "109b1e06-c2d0-4465-a490-fd55bb7777ad",
   "metadata": {},
   "outputs": [
    {
     "name": "stdout",
     "output_type": "stream",
     "text": [
      "['Polymer2', 'Polymer1', 'Polymer3']\n",
      "                  Strain Length (Polymer2)  Strain Length (Polymer1)  \\\n",
      "Stress Force(nN)                                                       \n",
      "0.0                                1.00000                   1.00000   \n",
      "0.5                                1.80478                       NaN   \n",
      "1.0                                1.94094                   1.08612   \n",
      "1.5                                1.99338                       NaN   \n",
      "2.0                                2.04726                   1.13711   \n",
      "2.5                                2.11094                       NaN   \n",
      "3.0                                    NaN                   1.19355   \n",
      "3.5                                    NaN                       NaN   \n",
      "4.0                                    NaN                   1.26524   \n",
      "4.5                                    NaN                       NaN   \n",
      "5.0                                    NaN                       NaN   \n",
      "5.5                                    NaN                       NaN   \n",
      "6.0                                    NaN                       NaN   \n",
      "6.5                                    NaN                       NaN   \n",
      "7.0                                    NaN                       NaN   \n",
      "7.5                                    NaN                       NaN   \n",
      "8.0                                    NaN                       NaN   \n",
      "8.5                                    NaN                       NaN   \n",
      "9.0                                    NaN                       NaN   \n",
      "9.5                                    NaN                       NaN   \n",
      "10.0                                   NaN                       NaN   \n",
      "\n",
      "                  Strain Length (Polymer3)  \n",
      "Stress Force(nN)                            \n",
      "0.0                                1.00000  \n",
      "0.5                                    NaN  \n",
      "1.0                                1.02396  \n",
      "1.5                                    NaN  \n",
      "2.0                                1.05003  \n",
      "2.5                                    NaN  \n",
      "3.0                                1.07932  \n",
      "3.5                                    NaN  \n",
      "4.0                                1.11431  \n",
      "4.5                                    NaN  \n",
      "5.0                                1.15991  \n",
      "5.5                                1.19223  \n",
      "6.0                                    NaN  \n",
      "6.5                                    NaN  \n",
      "7.0                                    NaN  \n",
      "7.5                                    NaN  \n",
      "8.0                                    NaN  \n",
      "8.5                                    NaN  \n",
      "9.0                                    NaN  \n",
      "9.5                                    NaN  \n",
      "10.0                                   NaN  \n"
     ]
    },
    {
     "data": {
      "image/png": "[encoded data removed]",
      "text/plain": [
       "<Figure size 640x480 with 1 Axes>"
      ]
     },
     "metadata": {},
     "output_type": "display_data"
    },
    {
     "data": {
      "text/plain": [
       "<Figure size 640x480 with 0 Axes>"
      ]
     },
     "metadata": {},
     "output_type": "display_data"
    }
   ],
   "source": [
    "from MCPoly.sscurve import multiple\n",
    "multiple(needYM=False)"
   ]
  },
  {
   "cell_type": "code",
   "execution_count": 4,
   "id": "b326be0b-9cb1-478e-a5da-4843e483a2d8",
   "metadata": {},
   "outputs": [],
   "source": [
    "from MCPoly.orcaset import XYZtoINP\n",
    "XYZtoINP('Atom1',method='B3LYP D3BJ',basis_set='def2-TZVP',opt=True,freq=True,\\\n",
    "        maxcore=4096,corenum=8)"
   ]
  },
  {
   "cell_type": "code",
   "execution_count": 2,
   "id": "7f7e003c-0d30-482b-abe0-5c533f634abf",
   "metadata": {},
   "outputs": [
    {
     "name": "stdout",
     "output_type": "stream",
     "text": [
      "Program Completed.[Mon Apr 24 11:25:12 2023]\n"
     ]
    },
    {
     "name": "stderr",
     "output_type": "stream",
     "text": [
      "sh: mpirun: command not found\n",
      "[file orca_tools/qcmsg.cpp, line 465]: \n",
      "  .... aborting the run\n",
      "\n"
     ]
    }
   ],
   "source": [
    "from MCPoly.orcaset import XYZtoINP\n",
    "from MCPoly.orcaset import orca\n",
    "\n",
    "XYZtoINP('Atom2',method='B3LYP',basis_set='def2-TZVP',opt=True,freq=True,\\\n",
    "        maxcore=4096,corenum=8)\n",
    "orca('Atom2',orcaloc='/Users/cxs454/Desktop/DecomPoly/orca/')"
   ]
  },
  {
   "cell_type": "code",
   "execution_count": 1,
   "id": "b9a90712-c42b-4fe3-bda1-6980163119b3",
   "metadata": {},
   "outputs": [],
   "source": [
    "from MCPoly.lmpset import mould\n",
    "\n",
    "atoms=mould('CCOH')\n",
    "atoms.cube(6,5,6,5,3,5)"
   ]
  },
  {
   "cell_type": "code",
   "execution_count": 1,
   "id": "89938fb6-a9d7-4be1-aadd-bc0d9d6f69e2",
   "metadata": {},
   "outputs": [],
   "source": [
    "from MCPoly.lmpset import mould\n",
    "\n",
    "atoms=mould('CCOH')\n",
    "atoms.brick(6,5,6,5,4,5,xpattern='y')"
   ]
  },
  {
   "cell_type": "code",
   "execution_count": 1,
   "id": "87a83df2-94de-4e1d-a5d8-0bc7085cfafa",
   "metadata": {},
   "outputs": [
    {
     "name": "stdout",
     "output_type": "stream",
     "text": [
      "Energy: 251.46895156195123\n",
      "Molecule: generated 100 conformers and 93 clusters\n"
     ]
    },
    {
     "data": {
      "application/3dmoljs_load.v0": "<div id=\"3dmolviewer_168319090031303\"  style=\"position: relative; width: 600px; height: 400px\">\n        <p id=\"3dmolwarning_168319090031303\" style=\"background-color:#ffcccc;color:black\">You appear to be running in JupyterLab (or JavaScript failed to load for some other reason).  You need to install the 3dmol extension: <br>\n        <tt>jupyter labextension install jupyterlab_3dmol</tt></p>\n        </div>\n<script>\n\nvar loadScriptAsync = function(uri){\n  return new Promise((resolve, reject) => {\n    //this is to ignore the existence of requirejs amd\n    var savedexports, savedmodule;\n    if (typeof exports !== 'undefined') savedexports = exports;\n    else exports = {}\n    if (typeof module !== 'undefined') savedmodule = module;\n    else module = {}\n\n    var tag = document.createElement('script');\n    tag.src = uri;\n    tag.async = true;\n    tag.onload = () => {\n        exports = savedexports;\n        module = savedmodule;\n        resolve();\n    };\n  var firstScriptTag = document.getElementsByTagName('script')[0];\n  firstScriptTag.parentNode.insertBefore(tag, firstScriptTag);\n});\n};\n\nif(typeof $3Dmolpromise === 'undefined') {\n$3Dmolpromise = null;\n  $3Dmolpromise = loadScriptAsync('https://cdn.jsdelivr.net/npm/3dmol@latest/build/3Dmol-min.min.js');\n}\n\nvar viewer_168319090031303 = null;\nvar warn = document.getElementById(\"3dmolwarning_168319090031303\");\nif(warn) {\n    warn.parentNode.removeChild(warn);\n}\n$3Dmolpromise.then(function() {\nviewer_168319090031303 = $3Dmol.createViewer(document.getElementById(\"3dmolviewer_168319090031303\"),{backgroundColor:\"white\"});\nviewer_168319090031303.zoomTo();\n\tviewer_168319090031303.addModel(\"\\n     RDKit          3D\\n\\n 59 60  0  0  0  0  0  0  0  0999 V2000\\n    3.1257   -0.2349   -0.9109 C   0  0  2  0  0  0  0  0  0  0  0  0\\n    3.7428   -1.0318    0.2544 C   0  0  0  0  0  3  0  0  0  0  0  0\\n    5.1266   -1.5357   -0.0844 C   0  0  0  0  0  3  0  0  0  0  0  0\\n    6.0684   -0.4227   -0.4030 C   0  0  0  0  0  3  0  0  0  0  0  0\\n    7.4415   -0.9187   -0.7015 C   0  0  0  0  0  3  0  0  0  0  0  0\\n    6.1435    0.4922    0.8058 C   0  0  0  0  0  3  0  0  0  0  0  0\\n    4.8074    1.0520    1.1710 C   0  0  0  0  0  3  0  0  0  0  0  0\\n    3.8079   -0.0571    1.4255 C   0  0  0  0  0  3  0  0  0  0  0  0\\n    1.7379    0.1485   -0.3643 C   0  0  0  0  0  0  0  0  0  0  0  0\\n    2.8486   -1.1346   -2.0765 C   0  0  0  0  0  0  0  0  0  0  0  0\\n    2.2382   -0.3427   -3.4869 S   0  0  0  0  0  0  0  0  0  0  0  0\\n    8.2245   -1.3889    0.4798 C   0  0  0  0  0  0  0  0  0  0  0  0\\n    7.4752   -1.8932   -1.8588 C   0  0  0  0  0  3  0  0  0  0  0  0\\n    0.4730    0.6308   -3.6320 S   0  0  0  0  0  0  0  0  0  0  0  0\\n    0.6199    2.6874   -3.2514 S   0  0  0  0  0  0  0  0  0  0  0  0\\n    0.1894    2.9971   -1.2188 S   0  0  0  0  0  0  0  0  0  0  0  0\\n   -1.8721    3.3384   -1.0345 S   0  0  0  0  0  0  0  0  0  0  0  0\\n   -2.8504    1.8845   -0.7786 C   0  0  0  0  0  0  0  0  0  0  0  0\\n   -2.6329    1.1944    0.5366 C   0  0  2  0  0  0  0  0  0  0  0  0\\n   -3.5359    0.0003    0.5693 C   0  0  0  0  0  3  0  0  0  0  0  0\\n   -2.8896    2.1566    1.6717 C   0  0  0  0  0  0  0  0  0  0  0  0\\n   -3.4791   -0.8196    1.8062 C   0  0  0  0  0  3  0  0  0  0  0  0\\n   -4.6553   -1.7828    1.7837 C   0  0  0  0  0  3  0  0  0  0  0  0\\n   -5.8896   -0.9735    2.0050 C   0  0  0  0  0  3  0  0  0  0  0  0\\n   -6.0377    0.0492    0.9277 C   0  0  0  0  0  3  0  0  0  0  0  0\\n   -4.8893    0.1948   -0.0009 C   0  0  0  0  0  3  0  0  0  0  0  0\\n   -7.3278   -0.2105    0.1864 C   0  0  0  0  0  3  0  0  0  0  0  0\\n   -8.2859   -1.0674    0.9839 C   0  0  0  0  0  0  0  0  0  0  0  0\\n   -8.0205    1.0520   -0.2390 C   0  0  0  0  0  3  0  0  0  0  0  0\\n    3.7565    0.6191   -1.1258 H   0  0  0  0  0  0  0  0  0  0  0  0\\n    5.0561   -2.3410   -0.8042 H   0  0  0  0  0  0  0  0  0  0  0  0\\n    6.7994    1.3502    0.4988 H   0  0  0  0  0  0  0  0  0  0  0  0\\n    4.4906    1.7547    0.3969 H   0  0  0  0  0  0  0  0  0  0  0  0\\n    4.1822   -0.6074    2.3222 H   0  0  0  0  0  0  0  0  0  0  0  0\\n    1.3567   -0.6613    0.2988 H   0  0  0  0  0  0  0  0  0  0  0  0\\n    1.0600    0.1875   -1.2203 H   0  0  0  0  0  0  0  0  0  0  0  0\\n    1.8250    1.0332    0.2552 H   0  0  0  0  0  0  0  0  0  0  0  0\\n    3.7878   -1.7511   -2.2601 H   0  0  0  0  0  0  0  0  0  0  0  0\\n    2.0524   -1.8830   -1.7029 H   0  0  0  0  0  0  0  0  0  0  0  0\\n    8.8644   -2.2592    0.1466 H   0  0  0  0  0  0  0  0  0  0  0  0\\n    8.9567   -0.5926    0.7483 H   0  0  0  0  0  0  0  0  0  0  0  0\\n    7.6120   -1.7036    1.3243 H   0  0  0  0  0  0  0  0  0  0  0  0\\n    8.4981   -1.8399   -2.3223 H   0  0  0  0  0  0  0  0  0  0  0  0\\n    7.3638   -2.9082   -1.4318 H   0  0  0  0  0  0  0  0  0  0  0  0\\n   -2.5817    1.1449   -1.5914 H   0  0  0  0  0  0  0  0  0  0  0  0\\n   -3.9356    2.0539   -0.9142 H   0  0  0  0  0  0  0  0  0  0  0  0\\n   -1.5906    0.8296    0.6618 H   0  0  0  0  0  0  0  0  0  0  0  0\\n   -2.3966    3.1231    1.4356 H   0  0  0  0  0  0  0  0  0  0  0  0\\n   -3.9679    2.3750    1.8117 H   0  0  0  0  0  0  0  0  0  0  0  0\\n   -2.4372    1.8008    2.6327 H   0  0  0  0  0  0  0  0  0  0  0  0\\n   -3.4657   -0.2208    2.7409 H   0  0  0  0  0  0  0  0  0  0  0  0\\n   -4.6910   -2.1885    0.7448 H   0  0  0  0  0  0  0  0  0  0  0  0\\n   -5.8769   -0.4806    3.0010 H   0  0  0  0  0  0  0  0  0  0  0  0\\n   -5.0514   -0.1852   -1.0131 H   0  0  0  0  0  0  0  0  0  0  0  0\\n   -8.5454   -1.9664    0.3511 H   0  0  0  0  0  0  0  0  0  0  0  0\\n   -7.8696   -1.4033    1.9553 H   0  0  0  0  0  0  0  0  0  0  0  0\\n   -9.2372   -0.5248    1.2017 H   0  0  0  0  0  0  0  0  0  0  0  0\\n   -7.8018    1.9117    0.4045 H   0  0  0  0  0  0  0  0  0  0  0  0\\n   -7.9174    1.2692   -1.3205 H   0  0  0  0  0  0  0  0  0  0  0  0\\n  1  2  1  0\\n  1  9  1  0\\n  1 10  1  0\\n  2  3  1  0\\n  2  8  1  0\\n  3  4  1  0\\n  4  5  1  0\\n  4  6  1  0\\n  5 12  1  0\\n  5 13  1  0\\n  6  7  1  0\\n  7  8  1  0\\n 10 11  1  0\\n 11 14  1  0\\n 14 15  1  0\\n 15 16  1  0\\n 16 17  1  0\\n 17 18  1  0\\n 18 19  1  0\\n 19 20  1  0\\n 19 21  1  0\\n 20 22  1  0\\n 20 26  1  0\\n 22 23  1  0\\n 23 24  1  0\\n 24 25  1  0\\n 25 26  1  0\\n 25 27  1  0\\n 27 28  1  0\\n 27 29  1  0\\n  1 30  1  6\\n  3 31  1  0\\n  6 32  1  0\\n  7 33  1  0\\n  8 34  1  0\\n  9 35  1  0\\n  9 36  1  0\\n  9 37  1  0\\n 10 38  1  0\\n 10 39  1  0\\n 12 40  1  0\\n 12 41  1  0\\n 12 42  1  0\\n 13 43  1  0\\n 13 44  1  0\\n 18 45  1  0\\n 18 46  1  0\\n 19 47  1  6\\n 21 48  1  0\\n 21 49  1  0\\n 21 50  1  0\\n 22 51  1  0\\n 23 52  1  0\\n 24 53  1  0\\n 26 54  1  0\\n 28 55  1  0\\n 28 56  1  0\\n 28 57  1  0\\n 29 58  1  0\\n 29 59  1  0\\nM  RAD  8   2   2   3   2   4   2   5   2   6   2   7   2   8   2  13   2\\nM  RAD  8  20   2  22   2  23   2  24   2  25   2  26   2  27   2  29   2\\nM  END\\n\",\"sdf\");\n\tviewer_168319090031303.setStyle({\"stick\": {}});\n\tviewer_168319090031303.zoomTo();\n\tviewer_168319090031303.setStyle({\"sphere\": {\"radius\": 0.4}, \"stick\": {\"radius\": 0.1}});\nviewer_168319090031303.render();\n});\n</script>",
      "text/html": [
       "<div id=\"3dmolviewer_168319090031303\"  style=\"position: relative; width: 600px; height: 400px\">\n",
       "        <p id=\"3dmolwarning_168319090031303\" style=\"background-color:#ffcccc;color:black\">You appear to be running in JupyterLab (or JavaScript failed to load for some other reason).  You need to install the 3dmol extension: <br>\n",
       "        <tt>jupyter labextension install jupyterlab_3dmol</tt></p>\n",
       "        </div>\n",
       "<script>\n",
       "\n",
       "var loadScriptAsync = function(uri){\n",
       "  return new Promise((resolve, reject) => {\n",
       "    //this is to ignore the existence of requirejs amd\n",
       "    var savedexports, savedmodule;\n",
       "    if (typeof exports !== 'undefined') savedexports = exports;\n",
       "    else exports = {}\n",
       "    if (typeof module !== 'undefined') savedmodule = module;\n",
       "    else module = {}\n",
       "\n",
       "    var tag = document.createElement('script');\n",
       "    tag.src = uri;\n",
       "    tag.async = true;\n",
       "    tag.onload = () => {\n",
       "        exports = savedexports;\n",
       "        module = savedmodule;\n",
       "        resolve();\n",
       "    };\n",
       "  var firstScriptTag = document.getElementsByTagName('script')[0];\n",
       "  firstScriptTag.parentNode.insertBefore(tag, firstScriptTag);\n",
       "});\n",
       "};\n",
       "\n",
       "if(typeof $3Dmolpromise === 'undefined') {\n",
       "$3Dmolpromise = null;\n",
       "  $3Dmolpromise = loadScriptAsync('https://cdn.jsdelivr.net/npm/3dmol@latest/build/3Dmol-min.min.js');\n",
       "}\n",
       "\n",
       "var viewer_168319090031303 = null;\n",
       "var warn = document.getElementById(\"3dmolwarning_168319090031303\");\n",
       "if(warn) {\n",
       "    warn.parentNode.removeChild(warn);\n",
       "}\n",
       "$3Dmolpromise.then(function() {\n",
       "viewer_168319090031303 = $3Dmol.createViewer(document.getElementById(\"3dmolviewer_168319090031303\"),{backgroundColor:\"white\"});\n",
       "viewer_168319090031303.zoomTo();\n",
       "\tviewer_168319090031303.addModel(\"\\n     RDKit          3D\\n\\n 59 60  0  0  0  0  0  0  0  0999 V2000\\n    3.1257   -0.2349   -0.9109 C   0  0  2  0  0  0  0  0  0  0  0  0\\n    3.7428   -1.0318    0.2544 C   0  0  0  0  0  3  0  0  0  0  0  0\\n    5.1266   -1.5357   -0.0844 C   0  0  0  0  0  3  0  0  0  0  0  0\\n    6.0684   -0.4227   -0.4030 C   0  0  0  0  0  3  0  0  0  0  0  0\\n    7.4415   -0.9187   -0.7015 C   0  0  0  0  0  3  0  0  0  0  0  0\\n    6.1435    0.4922    0.8058 C   0  0  0  0  0  3  0  0  0  0  0  0\\n    4.8074    1.0520    1.1710 C   0  0  0  0  0  3  0  0  0  0  0  0\\n    3.8079   -0.0571    1.4255 C   0  0  0  0  0  3  0  0  0  0  0  0\\n    1.7379    0.1485   -0.3643 C   0  0  0  0  0  0  0  0  0  0  0  0\\n    2.8486   -1.1346   -2.0765 C   0  0  0  0  0  0  0  0  0  0  0  0\\n    2.2382   -0.3427   -3.4869 S   0  0  0  0  0  0  0  0  0  0  0  0\\n    8.2245   -1.3889    0.4798 C   0  0  0  0  0  0  0  0  0  0  0  0\\n    7.4752   -1.8932   -1.8588 C   0  0  0  0  0  3  0  0  0  0  0  0\\n    0.4730    0.6308   -3.6320 S   0  0  0  0  0  0  0  0  0  0  0  0\\n    0.6199    2.6874   -3.2514 S   0  0  0  0  0  0  0  0  0  0  0  0\\n    0.1894    2.9971   -1.2188 S   0  0  0  0  0  0  0  0  0  0  0  0\\n   -1.8721    3.3384   -1.0345 S   0  0  0  0  0  0  0  0  0  0  0  0\\n   -2.8504    1.8845   -0.7786 C   0  0  0  0  0  0  0  0  0  0  0  0\\n   -2.6329    1.1944    0.5366 C   0  0  2  0  0  0  0  0  0  0  0  0\\n   -3.5359    0.0003    0.5693 C   0  0  0  0  0  3  0  0  0  0  0  0\\n   -2.8896    2.1566    1.6717 C   0  0  0  0  0  0  0  0  0  0  0  0\\n   -3.4791   -0.8196    1.8062 C   0  0  0  0  0  3  0  0  0  0  0  0\\n   -4.6553   -1.7828    1.7837 C   0  0  0  0  0  3  0  0  0  0  0  0\\n   -5.8896   -0.9735    2.0050 C   0  0  0  0  0  3  0  0  0  0  0  0\\n   -6.0377    0.0492    0.9277 C   0  0  0  0  0  3  0  0  0  0  0  0\\n   -4.8893    0.1948   -0.0009 C   0  0  0  0  0  3  0  0  0  0  0  0\\n   -7.3278   -0.2105    0.1864 C   0  0  0  0  0  3  0  0  0  0  0  0\\n   -8.2859   -1.0674    0.9839 C   0  0  0  0  0  0  0  0  0  0  0  0\\n   -8.0205    1.0520   -0.2390 C   0  0  0  0  0  3  0  0  0  0  0  0\\n    3.7565    0.6191   -1.1258 H   0  0  0  0  0  0  0  0  0  0  0  0\\n    5.0561   -2.3410   -0.8042 H   0  0  0  0  0  0  0  0  0  0  0  0\\n    6.7994    1.3502    0.4988 H   0  0  0  0  0  0  0  0  0  0  0  0\\n    4.4906    1.7547    0.3969 H   0  0  0  0  0  0  0  0  0  0  0  0\\n    4.1822   -0.6074    2.3222 H   0  0  0  0  0  0  0  0  0  0  0  0\\n    1.3567   -0.6613    0.2988 H   0  0  0  0  0  0  0  0  0  0  0  0\\n    1.0600    0.1875   -1.2203 H   0  0  0  0  0  0  0  0  0  0  0  0\\n    1.8250    1.0332    0.2552 H   0  0  0  0  0  0  0  0  0  0  0  0\\n    3.7878   -1.7511   -2.2601 H   0  0  0  0  0  0  0  0  0  0  0  0\\n    2.0524   -1.8830   -1.7029 H   0  0  0  0  0  0  0  0  0  0  0  0\\n    8.8644   -2.2592    0.1466 H   0  0  0  0  0  0  0  0  0  0  0  0\\n    8.9567   -0.5926    0.7483 H   0  0  0  0  0  0  0  0  0  0  0  0\\n    7.6120   -1.7036    1.3243 H   0  0  0  0  0  0  0  0  0  0  0  0\\n    8.4981   -1.8399   -2.3223 H   0  0  0  0  0  0  0  0  0  0  0  0\\n    7.3638   -2.9082   -1.4318 H   0  0  0  0  0  0  0  0  0  0  0  0\\n   -2.5817    1.1449   -1.5914 H   0  0  0  0  0  0  0  0  0  0  0  0\\n   -3.9356    2.0539   -0.9142 H   0  0  0  0  0  0  0  0  0  0  0  0\\n   -1.5906    0.8296    0.6618 H   0  0  0  0  0  0  0  0  0  0  0  0\\n   -2.3966    3.1231    1.4356 H   0  0  0  0  0  0  0  0  0  0  0  0\\n   -3.9679    2.3750    1.8117 H   0  0  0  0  0  0  0  0  0  0  0  0\\n   -2.4372    1.8008    2.6327 H   0  0  0  0  0  0  0  0  0  0  0  0\\n   -3.4657   -0.2208    2.7409 H   0  0  0  0  0  0  0  0  0  0  0  0\\n   -4.6910   -2.1885    0.7448 H   0  0  0  0  0  0  0  0  0  0  0  0\\n   -5.8769   -0.4806    3.0010 H   0  0  0  0  0  0  0  0  0  0  0  0\\n   -5.0514   -0.1852   -1.0131 H   0  0  0  0  0  0  0  0  0  0  0  0\\n   -8.5454   -1.9664    0.3511 H   0  0  0  0  0  0  0  0  0  0  0  0\\n   -7.8696   -1.4033    1.9553 H   0  0  0  0  0  0  0  0  0  0  0  0\\n   -9.2372   -0.5248    1.2017 H   0  0  0  0  0  0  0  0  0  0  0  0\\n   -7.8018    1.9117    0.4045 H   0  0  0  0  0  0  0  0  0  0  0  0\\n   -7.9174    1.2692   -1.3205 H   0  0  0  0  0  0  0  0  0  0  0  0\\n  1  2  1  0\\n  1  9  1  0\\n  1 10  1  0\\n  2  3  1  0\\n  2  8  1  0\\n  3  4  1  0\\n  4  5  1  0\\n  4  6  1  0\\n  5 12  1  0\\n  5 13  1  0\\n  6  7  1  0\\n  7  8  1  0\\n 10 11  1  0\\n 11 14  1  0\\n 14 15  1  0\\n 15 16  1  0\\n 16 17  1  0\\n 17 18  1  0\\n 18 19  1  0\\n 19 20  1  0\\n 19 21  1  0\\n 20 22  1  0\\n 20 26  1  0\\n 22 23  1  0\\n 23 24  1  0\\n 24 25  1  0\\n 25 26  1  0\\n 25 27  1  0\\n 27 28  1  0\\n 27 29  1  0\\n  1 30  1  6\\n  3 31  1  0\\n  6 32  1  0\\n  7 33  1  0\\n  8 34  1  0\\n  9 35  1  0\\n  9 36  1  0\\n  9 37  1  0\\n 10 38  1  0\\n 10 39  1  0\\n 12 40  1  0\\n 12 41  1  0\\n 12 42  1  0\\n 13 43  1  0\\n 13 44  1  0\\n 18 45  1  0\\n 18 46  1  0\\n 19 47  1  6\\n 21 48  1  0\\n 21 49  1  0\\n 21 50  1  0\\n 22 51  1  0\\n 23 52  1  0\\n 24 53  1  0\\n 26 54  1  0\\n 28 55  1  0\\n 28 56  1  0\\n 28 57  1  0\\n 29 58  1  0\\n 29 59  1  0\\nM  RAD  8   2   2   3   2   4   2   5   2   6   2   7   2   8   2  13   2\\nM  RAD  8  20   2  22   2  23   2  24   2  25   2  26   2  27   2  29   2\\nM  END\\n\",\"sdf\");\n",
       "\tviewer_168319090031303.setStyle({\"stick\": {}});\n",
       "\tviewer_168319090031303.zoomTo();\n",
       "\tviewer_168319090031303.setStyle({\"sphere\": {\"radius\": 0.4}, \"stick\": {\"radius\": 0.1}});\n",
       "viewer_168319090031303.render();\n",
       "});\n",
       "</script>"
      ]
     },
     "metadata": {},
     "output_type": "display_data"
    },
    {
     "name": "stdin",
     "output_type": "stream",
     "text": [
      "Do you want to save this structure? [y/n] n\n"
     ]
    }
   ],
   "source": [
    "from MCPoly.moldraw import molecule\n",
    "\n",
    "atoms=molecule('SI5_0','../Sulphur/')\n",
    "atoms.conformer()"
   ]
  },
  {
   "cell_type": "code",
   "execution_count": 2,
   "id": "13835d51-8f2c-4267-ae1e-4760f087d855",
   "metadata": {},
   "outputs": [
    {
     "name": "stdout",
     "output_type": "stream",
     "text": [
      "285.4591708034567\n"
     ]
    }
   ],
   "source": [
    "print(atoms.energy)"
   ]
  },
  {
   "cell_type": "code",
   "execution_count": 6,
   "id": "86b0a52e-e945-430c-85a0-afa2dc1bd3c9",
   "metadata": {},
   "outputs": [
    {
     "name": "stdout",
     "output_type": "stream",
     "text": [
      "Energy: 264.7508728908226\n",
      "Molecule: generated 100 conformers and 97 clusters\n"
     ]
    },
    {
     "data": {
      "application/3dmoljs_load.v0": "<div id=\"3dmolviewer_1682604736024383\"  style=\"position: relative; width: 600px; height: 400px\">\n        <p id=\"3dmolwarning_1682604736024383\" style=\"background-color:#ffcccc;color:black\">You appear to be running in JupyterLab (or JavaScript failed to load for some other reason).  You need to install the 3dmol extension: <br>\n        <tt>jupyter labextension install jupyterlab_3dmol</tt></p>\n        </div>\n<script>\n\nvar loadScriptAsync = function(uri){\n  return new Promise((resolve, reject) => {\n    //this is to ignore the existence of requirejs amd\n    var savedexports, savedmodule;\n    if (typeof exports !== 'undefined') savedexports = exports;\n    else exports = {}\n    if (typeof module !== 'undefined') savedmodule = module;\n    else module = {}\n\n    var tag = document.createElement('script');\n    tag.src = uri;\n    tag.async = true;\n    tag.onload = () => {\n        exports = savedexports;\n        module = savedmodule;\n        resolve();\n    };\n  var firstScriptTag = document.getElementsByTagName('script')[0];\n  firstScriptTag.parentNode.insertBefore(tag, firstScriptTag);\n});\n};\n\nif(typeof $3Dmolpromise === 'undefined') {\n$3Dmolpromise = null;\n  $3Dmolpromise = loadScriptAsync('https://cdn.jsdelivr.net/npm/3dmol@latest/build/3Dmol-min.min.js');\n}\n\nvar viewer_1682604736024383 = null;\nvar warn = document.getElementById(\"3dmolwarning_1682604736024383\");\nif(warn) {\n    warn.parentNode.removeChild(warn);\n}\n$3Dmolpromise.then(function() {\nviewer_1682604736024383 = $3Dmol.createViewer(document.getElementById(\"3dmolviewer_1682604736024383\"),{backgroundColor:\"white\"});\nviewer_1682604736024383.zoomTo();\n\tviewer_1682604736024383.addModel(\"\\n     RDKit          3D\\n\\n 59 60  0  0  0  0  0  0  0  0999 V2000\\n    3.5347    0.5726    0.7625 C   0  0  2  0  0  0  0  0  0  0  0  0\\n    4.2365   -0.2428   -0.2848 C   0  0  0  0  0  3  0  0  0  0  0  0\\n    5.4689    0.3461   -0.8220 C   0  0  0  0  0  3  0  0  0  0  0  0\\n    6.7538   -0.2495   -0.4016 C   0  0  0  0  0  3  0  0  0  0  0  0\\n    7.8048    0.7159    0.0332 C   0  0  0  0  0  3  0  0  0  0  0  0\\n    6.6764   -1.4896    0.4061 C   0  0  0  0  0  3  0  0  0  0  0  0\\n    5.5632   -2.3655   -0.0642 C   0  0  0  0  0  3  0  0  0  0  0  0\\n    4.2307   -1.6976   -0.0413 C   0  0  0  0  0  3  0  0  0  0  0  0\\n    4.4051    0.8135    1.9748 C   0  0  0  0  0  0  0  0  0  0  0  0\\n    2.3295   -0.2367    1.2300 C   0  0  0  0  0  0  0  0  0  0  0  0\\n    1.4621    0.7340    2.5021 S   0  0  0  0  0  0  0  0  0  0  0  0\\n    9.1010    0.4107   -0.6965 C   0  0  0  0  0  0  0  0  0  0  0  0\\n    7.3941    2.1610   -0.1571 C   0  0  0  0  0  3  0  0  0  0  0  0\\n    0.6751    2.4579    1.5426 S   0  0  0  0  0  0  0  0  0  0  0  0\\n   -1.2754    2.1239    0.7988 S   0  0  0  0  0  0  0  0  0  0  0  0\\n   -1.1795    1.3978   -1.1849 S   0  0  0  0  0  0  0  0  0  0  0  0\\n   -1.0902   -0.6585   -1.1699 S   0  0  0  0  0  0  0  0  0  0  0  0\\n   -2.5407   -1.5480   -1.3670 C   0  0  0  0  0  0  0  0  0  0  0  0\\n   -3.6830   -1.6417   -0.4565 C   0  0  2  0  0  0  0  0  0  0  0  0\\n   -4.5189   -0.5519   -0.0716 C   0  0  0  0  0  3  0  0  0  0  0  0\\n   -3.1336   -2.4227    0.7922 C   0  0  0  0  0  0  0  0  0  0  0  0\\n   -4.0612    0.5650    0.7240 C   0  0  0  0  0  3  0  0  0  0  0  0\\n   -5.0839    0.8131    1.8449 C   0  0  0  0  0  3  0  0  0  0  0  0\\n   -6.3597    1.2231    1.1463 C   0  0  0  0  0  3  0  0  0  0  0  0\\n   -6.8480    0.1707    0.1836 C   0  0  0  0  0  3  0  0  0  0  0  0\\n   -5.7819   -0.2657   -0.7895 C   0  0  0  0  0  3  0  0  0  0  0  0\\n   -7.9816    0.7878   -0.6066 C   0  0  0  0  0  3  0  0  0  0  0  0\\n   -8.6665    1.8354    0.2099 C   0  0  0  0  0  0  0  0  0  0  0  0\\n   -8.9357   -0.2604   -1.1311 C   0  0  0  0  0  3  0  0  0  0  0  0\\n    3.2188    1.5146    0.3015 H   0  0  0  0  0  0  0  0  0  0  0  0\\n    5.4177    0.3745   -1.9284 H   0  0  0  0  0  0  0  0  0  0  0  0\\n    6.7636   -1.3741    1.4841 H   0  0  0  0  0  0  0  0  0  0  0  0\\n    5.5242   -3.2587    0.5957 H   0  0  0  0  0  0  0  0  0  0  0  0\\n    3.5347   -2.1983   -0.7186 H   0  0  0  0  0  0  0  0  0  0  0  0\\n    4.7196   -0.2080    2.3362 H   0  0  0  0  0  0  0  0  0  0  0  0\\n    3.7938    1.2821    2.7665 H   0  0  0  0  0  0  0  0  0  0  0  0\\n    5.2755    1.4130    1.6738 H   0  0  0  0  0  0  0  0  0  0  0  0\\n    1.6359   -0.2927    0.3477 H   0  0  0  0  0  0  0  0  0  0  0  0\\n    2.6328   -1.2261    1.5846 H   0  0  0  0  0  0  0  0  0  0  0  0\\n    9.1658   -0.6844   -0.8946 H   0  0  0  0  0  0  0  0  0  0  0  0\\n    9.1802    0.9668   -1.6487 H   0  0  0  0  0  0  0  0  0  0  0  0\\n    9.9842    0.6507   -0.0649 H   0  0  0  0  0  0  0  0  0  0  0  0\\n    6.5223    2.2455   -0.8353 H   0  0  0  0  0  0  0  0  0  0  0  0\\n    8.2678    2.7202   -0.5031 H   0  0  0  0  0  0  0  0  0  0  0  0\\n   -2.9384   -1.3781   -2.4571 H   0  0  0  0  0  0  0  0  0  0  0  0\\n   -2.2303   -2.6754   -1.5300 H   0  0  0  0  0  0  0  0  0  0  0  0\\n   -4.3899   -2.4748   -0.8761 H   0  0  0  0  0  0  0  0  0  0  0  0\\n   -2.6488   -3.3267    0.4117 H   0  0  0  0  0  0  0  0  0  0  0  0\\n   -2.4806   -1.7824    1.3804 H   0  0  0  0  0  0  0  0  0  0  0  0\\n   -3.9868   -2.7320    1.4272 H   0  0  0  0  0  0  0  0  0  0  0  0\\n   -4.1191    1.5170    0.1142 H   0  0  0  0  0  0  0  0  0  0  0  0\\n   -4.7116    1.7053    2.3864 H   0  0  0  0  0  0  0  0  0  0  0  0\\n   -6.1965    2.2100    0.6528 H   0  0  0  0  0  0  0  0  0  0  0  0\\n   -6.1884   -1.1117   -1.3762 H   0  0  0  0  0  0  0  0  0  0  0  0\\n   -9.7292    1.5276    0.3474 H   0  0  0  0  0  0  0  0  0  0  0  0\\n   -8.6933    2.8297   -0.3044 H   0  0  0  0  0  0  0  0  0  0  0  0\\n   -8.2211    2.0124    1.2091 H   0  0  0  0  0  0  0  0  0  0  0  0\\n   -8.3858   -0.8170   -1.9309 H   0  0  0  0  0  0  0  0  0  0  0  0\\n   -9.2131   -0.9272   -0.2838 H   0  0  0  0  0  0  0  0  0  0  0  0\\n  1  2  1  0\\n  1  9  1  0\\n  1 10  1  0\\n  2  3  1  0\\n  2  8  1  0\\n  3  4  1  0\\n  4  5  1  0\\n  4  6  1  0\\n  5 12  1  0\\n  5 13  1  0\\n  6  7  1  0\\n  7  8  1  0\\n 10 11  1  0\\n 11 14  1  0\\n 14 15  1  0\\n 15 16  1  0\\n 16 17  1  0\\n 17 18  1  0\\n 18 19  1  0\\n 19 20  1  0\\n 19 21  1  0\\n 20 22  1  0\\n 20 26  1  0\\n 22 23  1  0\\n 23 24  1  0\\n 24 25  1  0\\n 25 26  1  0\\n 25 27  1  0\\n 27 28  1  0\\n 27 29  1  0\\n  1 30  1  6\\n  3 31  1  0\\n  6 32  1  0\\n  7 33  1  0\\n  8 34  1  0\\n  9 35  1  0\\n  9 36  1  0\\n  9 37  1  0\\n 10 38  1  0\\n 10 39  1  0\\n 12 40  1  0\\n 12 41  1  0\\n 12 42  1  0\\n 13 43  1  0\\n 13 44  1  0\\n 18 45  1  0\\n 18 46  1  0\\n 19 47  1  6\\n 21 48  1  0\\n 21 49  1  0\\n 21 50  1  0\\n 22 51  1  0\\n 23 52  1  0\\n 24 53  1  0\\n 26 54  1  0\\n 28 55  1  0\\n 28 56  1  0\\n 28 57  1  0\\n 29 58  1  0\\n 29 59  1  0\\nM  RAD  8   2   2   3   2   4   2   5   2   6   2   7   2   8   2  13   2\\nM  RAD  8  20   2  22   2  23   2  24   2  25   2  26   2  27   2  29   2\\nM  END\\n\",\"sdf\");\n\tviewer_1682604736024383.setStyle({\"stick\": {}});\n\tviewer_1682604736024383.zoomTo();\n\tviewer_1682604736024383.setStyle({\"sphere\": {\"radius\": 0.4}, \"stick\": {\"radius\": 0.1}});\nviewer_1682604736024383.render();\n});\n</script>",
      "text/html": [
       "<div id=\"3dmolviewer_1682604736024383\"  style=\"position: relative; width: 600px; height: 400px\">\n",
       "        <p id=\"3dmolwarning_1682604736024383\" style=\"background-color:#ffcccc;color:black\">You appear to be running in JupyterLab (or JavaScript failed to load for some other reason).  You need to install the 3dmol extension: <br>\n",
       "        <tt>jupyter labextension install jupyterlab_3dmol</tt></p>\n",
       "        </div>\n",
       "<script>\n",
       "\n",
       "var loadScriptAsync = function(uri){\n",
       "  return new Promise((resolve, reject) => {\n",
       "    //this is to ignore the existence of requirejs amd\n",
       "    var savedexports, savedmodule;\n",
       "    if (typeof exports !== 'undefined') savedexports = exports;\n",
       "    else exports = {}\n",
       "    if (typeof module !== 'undefined') savedmodule = module;\n",
       "    else module = {}\n",
       "\n",
       "    var tag = document.createElement('script');\n",
       "    tag.src = uri;\n",
       "    tag.async = true;\n",
       "    tag.onload = () => {\n",
       "        exports = savedexports;\n",
       "        module = savedmodule;\n",
       "        resolve();\n",
       "    };\n",
       "  var firstScriptTag = document.getElementsByTagName('script')[0];\n",
       "  firstScriptTag.parentNode.insertBefore(tag, firstScriptTag);\n",
       "});\n",
       "};\n",
       "\n",
       "if(typeof $3Dmolpromise === 'undefined') {\n",
       "$3Dmolpromise = null;\n",
       "  $3Dmolpromise = loadScriptAsync('https://cdn.jsdelivr.net/npm/3dmol@latest/build/3Dmol-min.min.js');\n",
       "}\n",
       "\n",
       "var viewer_1682604736024383 = null;\n",
       "var warn = document.getElementById(\"3dmolwarning_1682604736024383\");\n",
       "if(warn) {\n",
       "    warn.parentNode.removeChild(warn);\n",
       "}\n",
       "$3Dmolpromise.then(function() {\n",
       "viewer_1682604736024383 = $3Dmol.createViewer(document.getElementById(\"3dmolviewer_1682604736024383\"),{backgroundColor:\"white\"});\n",
       "viewer_1682604736024383.zoomTo();\n",
       "\tviewer_1682604736024383.addModel(\"\\n     RDKit          3D\\n\\n 59 60  0  0  0  0  0  0  0  0999 V2000\\n    3.5347    0.5726    0.7625 C   0  0  2  0  0  0  0  0  0  0  0  0\\n    4.2365   -0.2428   -0.2848 C   0  0  0  0  0  3  0  0  0  0  0  0\\n    5.4689    0.3461   -0.8220 C   0  0  0  0  0  3  0  0  0  0  0  0\\n    6.7538   -0.2495   -0.4016 C   0  0  0  0  0  3  0  0  0  0  0  0\\n    7.8048    0.7159    0.0332 C   0  0  0  0  0  3  0  0  0  0  0  0\\n    6.6764   -1.4896    0.4061 C   0  0  0  0  0  3  0  0  0  0  0  0\\n    5.5632   -2.3655   -0.0642 C   0  0  0  0  0  3  0  0  0  0  0  0\\n    4.2307   -1.6976   -0.0413 C   0  0  0  0  0  3  0  0  0  0  0  0\\n    4.4051    0.8135    1.9748 C   0  0  0  0  0  0  0  0  0  0  0  0\\n    2.3295   -0.2367    1.2300 C   0  0  0  0  0  0  0  0  0  0  0  0\\n    1.4621    0.7340    2.5021 S   0  0  0  0  0  0  0  0  0  0  0  0\\n    9.1010    0.4107   -0.6965 C   0  0  0  0  0  0  0  0  0  0  0  0\\n    7.3941    2.1610   -0.1571 C   0  0  0  0  0  3  0  0  0  0  0  0\\n    0.6751    2.4579    1.5426 S   0  0  0  0  0  0  0  0  0  0  0  0\\n   -1.2754    2.1239    0.7988 S   0  0  0  0  0  0  0  0  0  0  0  0\\n   -1.1795    1.3978   -1.1849 S   0  0  0  0  0  0  0  0  0  0  0  0\\n   -1.0902   -0.6585   -1.1699 S   0  0  0  0  0  0  0  0  0  0  0  0\\n   -2.5407   -1.5480   -1.3670 C   0  0  0  0  0  0  0  0  0  0  0  0\\n   -3.6830   -1.6417   -0.4565 C   0  0  2  0  0  0  0  0  0  0  0  0\\n   -4.5189   -0.5519   -0.0716 C   0  0  0  0  0  3  0  0  0  0  0  0\\n   -3.1336   -2.4227    0.7922 C   0  0  0  0  0  0  0  0  0  0  0  0\\n   -4.0612    0.5650    0.7240 C   0  0  0  0  0  3  0  0  0  0  0  0\\n   -5.0839    0.8131    1.8449 C   0  0  0  0  0  3  0  0  0  0  0  0\\n   -6.3597    1.2231    1.1463 C   0  0  0  0  0  3  0  0  0  0  0  0\\n   -6.8480    0.1707    0.1836 C   0  0  0  0  0  3  0  0  0  0  0  0\\n   -5.7819   -0.2657   -0.7895 C   0  0  0  0  0  3  0  0  0  0  0  0\\n   -7.9816    0.7878   -0.6066 C   0  0  0  0  0  3  0  0  0  0  0  0\\n   -8.6665    1.8354    0.2099 C   0  0  0  0  0  0  0  0  0  0  0  0\\n   -8.9357   -0.2604   -1.1311 C   0  0  0  0  0  3  0  0  0  0  0  0\\n    3.2188    1.5146    0.3015 H   0  0  0  0  0  0  0  0  0  0  0  0\\n    5.4177    0.3745   -1.9284 H   0  0  0  0  0  0  0  0  0  0  0  0\\n    6.7636   -1.3741    1.4841 H   0  0  0  0  0  0  0  0  0  0  0  0\\n    5.5242   -3.2587    0.5957 H   0  0  0  0  0  0  0  0  0  0  0  0\\n    3.5347   -2.1983   -0.7186 H   0  0  0  0  0  0  0  0  0  0  0  0\\n    4.7196   -0.2080    2.3362 H   0  0  0  0  0  0  0  0  0  0  0  0\\n    3.7938    1.2821    2.7665 H   0  0  0  0  0  0  0  0  0  0  0  0\\n    5.2755    1.4130    1.6738 H   0  0  0  0  0  0  0  0  0  0  0  0\\n    1.6359   -0.2927    0.3477 H   0  0  0  0  0  0  0  0  0  0  0  0\\n    2.6328   -1.2261    1.5846 H   0  0  0  0  0  0  0  0  0  0  0  0\\n    9.1658   -0.6844   -0.8946 H   0  0  0  0  0  0  0  0  0  0  0  0\\n    9.1802    0.9668   -1.6487 H   0  0  0  0  0  0  0  0  0  0  0  0\\n    9.9842    0.6507   -0.0649 H   0  0  0  0  0  0  0  0  0  0  0  0\\n    6.5223    2.2455   -0.8353 H   0  0  0  0  0  0  0  0  0  0  0  0\\n    8.2678    2.7202   -0.5031 H   0  0  0  0  0  0  0  0  0  0  0  0\\n   -2.9384   -1.3781   -2.4571 H   0  0  0  0  0  0  0  0  0  0  0  0\\n   -2.2303   -2.6754   -1.5300 H   0  0  0  0  0  0  0  0  0  0  0  0\\n   -4.3899   -2.4748   -0.8761 H   0  0  0  0  0  0  0  0  0  0  0  0\\n   -2.6488   -3.3267    0.4117 H   0  0  0  0  0  0  0  0  0  0  0  0\\n   -2.4806   -1.7824    1.3804 H   0  0  0  0  0  0  0  0  0  0  0  0\\n   -3.9868   -2.7320    1.4272 H   0  0  0  0  0  0  0  0  0  0  0  0\\n   -4.1191    1.5170    0.1142 H   0  0  0  0  0  0  0  0  0  0  0  0\\n   -4.7116    1.7053    2.3864 H   0  0  0  0  0  0  0  0  0  0  0  0\\n   -6.1965    2.2100    0.6528 H   0  0  0  0  0  0  0  0  0  0  0  0\\n   -6.1884   -1.1117   -1.3762 H   0  0  0  0  0  0  0  0  0  0  0  0\\n   -9.7292    1.5276    0.3474 H   0  0  0  0  0  0  0  0  0  0  0  0\\n   -8.6933    2.8297   -0.3044 H   0  0  0  0  0  0  0  0  0  0  0  0\\n   -8.2211    2.0124    1.2091 H   0  0  0  0  0  0  0  0  0  0  0  0\\n   -8.3858   -0.8170   -1.9309 H   0  0  0  0  0  0  0  0  0  0  0  0\\n   -9.2131   -0.9272   -0.2838 H   0  0  0  0  0  0  0  0  0  0  0  0\\n  1  2  1  0\\n  1  9  1  0\\n  1 10  1  0\\n  2  3  1  0\\n  2  8  1  0\\n  3  4  1  0\\n  4  5  1  0\\n  4  6  1  0\\n  5 12  1  0\\n  5 13  1  0\\n  6  7  1  0\\n  7  8  1  0\\n 10 11  1  0\\n 11 14  1  0\\n 14 15  1  0\\n 15 16  1  0\\n 16 17  1  0\\n 17 18  1  0\\n 18 19  1  0\\n 19 20  1  0\\n 19 21  1  0\\n 20 22  1  0\\n 20 26  1  0\\n 22 23  1  0\\n 23 24  1  0\\n 24 25  1  0\\n 25 26  1  0\\n 25 27  1  0\\n 27 28  1  0\\n 27 29  1  0\\n  1 30  1  6\\n  3 31  1  0\\n  6 32  1  0\\n  7 33  1  0\\n  8 34  1  0\\n  9 35  1  0\\n  9 36  1  0\\n  9 37  1  0\\n 10 38  1  0\\n 10 39  1  0\\n 12 40  1  0\\n 12 41  1  0\\n 12 42  1  0\\n 13 43  1  0\\n 13 44  1  0\\n 18 45  1  0\\n 18 46  1  0\\n 19 47  1  6\\n 21 48  1  0\\n 21 49  1  0\\n 21 50  1  0\\n 22 51  1  0\\n 23 52  1  0\\n 24 53  1  0\\n 26 54  1  0\\n 28 55  1  0\\n 28 56  1  0\\n 28 57  1  0\\n 29 58  1  0\\n 29 59  1  0\\nM  RAD  8   2   2   3   2   4   2   5   2   6   2   7   2   8   2  13   2\\nM  RAD  8  20   2  22   2  23   2  24   2  25   2  26   2  27   2  29   2\\nM  END\\n\",\"sdf\");\n",
       "\tviewer_1682604736024383.setStyle({\"stick\": {}});\n",
       "\tviewer_1682604736024383.zoomTo();\n",
       "\tviewer_1682604736024383.setStyle({\"sphere\": {\"radius\": 0.4}, \"stick\": {\"radius\": 0.1}});\n",
       "viewer_1682604736024383.render();\n",
       "});\n",
       "</script>"
      ]
     },
     "metadata": {},
     "output_type": "display_data"
    },
    {
     "name": "stdin",
     "output_type": "stream",
     "text": [
      "Do you want to save this structure? [y/n] n\n"
     ]
    }
   ],
   "source": [
    "atoms.conformer(lowenergy=atoms.energy)"
   ]
  },
  {
   "cell_type": "code",
   "execution_count": 4,
   "id": "18c3b942-363a-48a6-abcf-63237e96b76e",
   "metadata": {},
   "outputs": [
    {
     "data": {
      "text/plain": [
       "<Popen: returncode: None args: ['/Users/cxs454/opt/anaconda3/envs/test/bin/p...>"
      ]
     },
     "execution_count": 4,
     "metadata": {},
     "output_type": "execute_result"
    }
   ],
   "source": [
    "atoms.straight(5,47)\n",
    "atoms.geoview()"
   ]
  },
  {
   "cell_type": "code",
   "execution_count": 3,
   "id": "96beec5d-493e-4523-82b3-7e54d9ee10ca",
   "metadata": {},
   "outputs": [
    {
     "ename": "ImportError",
     "evalue": "attempted relative import with no known parent package",
     "output_type": "error",
     "traceback": [
      "\u001b[0;31m---------------------------------------------------------------------------\u001b[0m",
      "\u001b[0;31mImportError\u001b[0m                               Traceback (most recent call last)",
      "\u001b[0;32m/var/folders/hp/h3x3qmks4kn3qdcv21z5pm140000gq/T/ipykernel_26075/4046225441.py\u001b[0m in \u001b[0;36m<module>\u001b[0;34m\u001b[0m\n\u001b[1;32m      6\u001b[0m \u001b[0;32mimport\u001b[0m \u001b[0mseaborn\u001b[0m \u001b[0;32mas\u001b[0m \u001b[0msns\u001b[0m\u001b[0;34m\u001b[0m\u001b[0;34m\u001b[0m\u001b[0m\n\u001b[1;32m      7\u001b[0m \u001b[0;32mimport\u001b[0m \u001b[0mmatplotlib\u001b[0m\u001b[0;34m.\u001b[0m\u001b[0mpyplot\u001b[0m \u001b[0;32mas\u001b[0m \u001b[0mplt\u001b[0m\u001b[0;34m\u001b[0m\u001b[0;34m\u001b[0m\u001b[0m\n\u001b[0;32m----> 8\u001b[0;31m \u001b[0;32mfrom\u001b[0m \u001b[0;34m.\u001b[0m\u001b[0mYModulus\u001b[0m \u001b[0;32mimport\u001b[0m \u001b[0mYModulus\u001b[0m\u001b[0;34m\u001b[0m\u001b[0;34m\u001b[0m\u001b[0m\n\u001b[0m\u001b[1;32m      9\u001b[0m \u001b[0;32mfrom\u001b[0m \u001b[0;34m.\u001b[0m\u001b[0msingle\u001b[0m \u001b[0;32mimport\u001b[0m \u001b[0msingle\u001b[0m\u001b[0;34m\u001b[0m\u001b[0;34m\u001b[0m\u001b[0m\n\u001b[1;32m     10\u001b[0m \u001b[0;32mimport\u001b[0m \u001b[0mwarnings\u001b[0m\u001b[0;34m\u001b[0m\u001b[0;34m\u001b[0m\u001b[0m\n",
      "\u001b[0;31mImportError\u001b[0m: attempted relative import with no known parent package"
     ]
    }
   ],
   "source": [
    "import ipywidgets as widgets\n",
    "import os\n",
    "import re\n",
    "import time as t\n",
    "import pandas as pd\n",
    "import seaborn as sns\n",
    "import matplotlib.pyplot as plt\n",
    "from .YModulus import YModulus\n",
    "from .single import single\n",
    "import warnings\n",
    "import sys\n",
    "\n",
    "mydir = os.path.dirname( __file__ )\n",
    "viewdir = os.path.join(mydir, '..', 'orcaset')\n",
    "sys.path.append(viewdir)\n",
    "from orcaset import view3dchoose\n",
    "from orcaset import XYZtoINP\n",
    "from orcaset import multiorca\n",
    "\n",
    "mydir = os.path.dirname( __file__ )\n",
    "viewdir = os.path.join(mydir, '..', 'status')\n",
    "sys.path.append(viewdir)\n",
    "from status import status"
   ]
  },
  {
   "cell_type": "code",
   "execution_count": 26,
   "id": "24c19167-0d77-400f-9fae-0766e2c9036c",
   "metadata": {},
   "outputs": [
    {
     "data": {
      "application/vnd.jupyter.widget-view+json": {
       "model_id": "b595df8c67a44acc8da2f06da1d71ef9",
       "version_major": 2,
       "version_minor": 0
      },
      "text/plain": [
       "Valid(value=False, readout='Failed!')"
      ]
     },
     "execution_count": 26,
     "metadata": {},
     "output_type": "execute_result"
    }
   ],
   "source": [
    "widgets.Valid(\n",
    "    value=False,\n",
    "    readout='Failed!'\n",
    ")"
   ]
  },
  {
   "cell_type": "code",
   "execution_count": 6,
   "id": "c99720d0-8c10-45e6-8e2b-6367ebc54dfa",
   "metadata": {},
   "outputs": [
    {
     "name": "stdout",
     "output_type": "stream",
     "text": [
      "1\n",
      "2\n",
      "3\n",
      "4\n"
     ]
    }
   ],
   "source": [
    "for i in range(1,5):\n",
    "    print(i)"
   ]
  },
  {
   "cell_type": "code",
   "execution_count": 8,
   "id": "7909cacd-fdcf-452e-8e2c-408df4dc3f12",
   "metadata": {},
   "outputs": [
    {
     "data": {
      "text/plain": [
       "0"
      ]
     },
     "execution_count": 8,
     "metadata": {},
     "output_type": "execute_result"
    }
   ],
   "source": [
    "aim1.value"
   ]
  },
  {
   "cell_type": "code",
   "execution_count": 2,
   "id": "f0470fc6-c4e3-4bb4-8640-e166094e4063",
   "metadata": {},
   "outputs": [
    {
     "data": {
      "application/vnd.jupyter.widget-view+json": {
       "model_id": "668eca2c63c94e408dc96909702350aa",
       "version_major": 2,
       "version_minor": 0
      },
      "text/plain": [
       "Tab(children=(Label(value='Normal ORCA', style=LabelStyle(font_weight='bold')), Label(value='Mechanical ORCA',…"
      ]
     },
     "metadata": {},
     "output_type": "display_data"
    }
   ],
   "source": [
    "import ipywidgets as widgets\n",
    "tab_contents = ['Normal ORCA','Mechanical ORCA','Multiple ORCA','Stress-Strain Curve']\n",
    "tab = widgets.Tab(style=dict(font_weight='bold'))\n",
    "children = [widgets.Label(name,style=dict(font_weight='bold')) for name in tab_contents]\n",
    "tab.children=children\n",
    "tab.titles = tab_contents\n",
    "tab.layout = widgets.Layout(layout=widgets.Layout(width='50%'))\n",
    "display(tab)"
   ]
  },
  {
   "cell_type": "code",
   "execution_count": 42,
   "id": "1b2cc46b-df9c-4bf2-8661-8a8de488d47e",
   "metadata": {},
   "outputs": [
    {
     "data": {
      "application/vnd.jupyter.widget-view+json": {
       "model_id": "abda9a9c5bc34d8792c177f23f65d8e3",
       "version_major": 2,
       "version_minor": 0
      },
      "text/plain": [
       "VBox(children=(Box(children=(Button(description='Normal ORCA', layout=Layout(width='25%'), style=ButtonStyle()…"
      ]
     },
     "metadata": {},
     "output_type": "display_data"
    }
   ],
   "source": [
    "def gui1open(button):\n",
    "    screen.clear_output()\n",
    "    with screen:\n",
    "        display(widgets.Label('Normal ORCA'))\n",
    "\n",
    "def gui2open(button):\n",
    "    screen.clear_output()\n",
    "    with screen:\n",
    "        display(widgets.Label('Mechanical ORCA'))\n",
    "\n",
    "def gui3open(button):\n",
    "    screen.clear_output()\n",
    "    with screen:\n",
    "        display(widgets.Label('Multiple ORCA'))\n",
    "\n",
    "def gui4open(button):\n",
    "    screen.clear_output()\n",
    "    with screen:\n",
    "        display(widgets.Label('Stress-Strain Curve'))\n",
    "\n",
    "screen=widgets.Output()\n",
    "\n",
    "gui1=widgets.Button(description='Normal ORCA',layout=widgets.Layout(width='25%'))\n",
    "gui2=widgets.Button(description='Mechanical ORCA',layout=widgets.Layout(width='25%'))\n",
    "gui3=widgets.Button(description='Multiple ORCA',layout=widgets.Layout(width='25%'))\n",
    "gui4=widgets.Button(description='Stress-Strain Curve',layout=widgets.Layout(width='25%'))\n",
    "func_layout = widgets.Layout(overflow='scroll hidden', width='750px',flex_flow='row',display='flex')\n",
    "func = widgets.Box(children=[gui1,gui2,gui3,gui4], layout=func_layout)\n",
    "\n",
    "gui1.on_click(gui1open)\n",
    "gui2.on_click(gui2open)\n",
    "gui3.on_click(gui3open)\n",
    "gui4.on_click(gui4open)\n",
    "\n",
    "display(widgets.VBox([func,screen]))"
   ]
  },
  {
   "cell_type": "code",
   "execution_count": 5,
   "id": "1051ef1d-6306-4896-a6c0-54d6f359710e",
   "metadata": {},
   "outputs": [
    {
     "name": "stdout",
     "output_type": "stream",
     "text": [
      "-1150.932617\n"
     ]
    }
   ],
   "source": [
    "from MCPoly.status import status\n",
    "a=status('Atoms1').energy()\n",
    "print(a)"
   ]
  },
  {
   "cell_type": "code",
   "execution_count": 3,
   "id": "de1c2a35-40f2-4e71-b2fe-901d2d226c7f",
   "metadata": {},
   "outputs": [
    {
     "name": "stdout",
     "output_type": "stream",
     "text": [
      "-995.140279\n"
     ]
    }
   ],
   "source": [
    "from MCPoly.status import status\n",
    "a=status('Atoms5').gibbs()\n",
    "print(a)"
   ]
  },
  {
   "cell_type": "code",
   "execution_count": 1,
   "id": "ac08de8b-7167-4073-a8c7-bc976d5a45a4",
   "metadata": {},
   "outputs": [
    {
     "name": "stdout",
     "output_type": "stream",
     "text": [
      "[    0.         97752.61908949]\n"
     ]
    },
    {
     "data": {
      "image/png": "[encoded data removed]",
      "text/plain": [
       "<Figure size 640x480 with 1 Axes>"
      ]
     },
     "metadata": {},
     "output_type": "display_data"
    }
   ],
   "source": [
    "from MCPoly.status import echart\n",
    "a=echart(files=['Atoms1','Atoms5'],energy_pattern='Gibbs',fig_pattern='line',hartree=False,absolute=False,figdata=True,savefig=False)\n",
    "print(a)"
   ]
  },
  {
   "cell_type": "code",
   "execution_count": 51,
   "id": "8c50ad4b-3b12-4fe8-8336-ecb9484a0740",
   "metadata": {},
   "outputs": [
    {
     "data": {
      "application/vnd.jupyter.widget-view+json": {
       "model_id": "ce300fee567c43ba90d9be9913f2fc3e",
       "version_major": 2,
       "version_minor": 0
      },
      "text/plain": [
       "HBox(children=(Output(layout=Layout(align_items='stretch', border_bottom='solid', border_left='solid', border_…"
      ]
     },
     "metadata": {},
     "output_type": "display_data"
    }
   ],
   "source": [
    "import ipywidgets as widgets\n",
    "import os\n",
    "import re\n",
    "import time as t\n",
    "import numpy as np\n",
    "import pandas as pd\n",
    "import seaborn as sns\n",
    "import matplotlib.pyplot as plt\n",
    "import warnings\n",
    "import sys\n",
    "from MCPoly.status import status\n",
    "\n",
    "\"\"\"\n",
    "    The method to draw the reaction energy diagram.\n",
    "    You will know how to do as long as you get into the GUI platform.\n",
    "\n",
    "    TIPS: 1. You can combine the table with the function with 'Result Combination'.\n",
    "          2. You can skip the a file name if you need.\n",
    "          3. For some limitation, the chart created on this function might not very good.\n",
    "          4. The 'Result Combination' can only create line chart.\n",
    "          5. The visualisation will also risk the flexibility of the task, to make you programme more flexible, please directly use the code.\n",
    "\"\"\"\n",
    "\n",
    "def fig(button):\n",
    "    opath=os.getcwd()\n",
    "    os.chdir(loc.value)\n",
    "    os.system('cp {0}.png {1}.png'.format(figoldname.value,figname.value))\n",
    "    os.system('rm {0}.png'.format(figoldname.value))\n",
    "    os.system('rm ot.png'.format(csv6.value))\n",
    "    if delete.value==True:\n",
    "        os.system('rm {0}.png'.format(csv1.value))\n",
    "        os.system('rm {0}.png'.format(csv2.value))\n",
    "        os.system('rm {0}.png'.format(csv3.value))\n",
    "        os.system('rm {0}.png'.format(csv4.value))\n",
    "        os.system('rm {0}.png'.format(csv5.value))\n",
    "        os.system('rm {0}.png'.format(csv6.value))\n",
    "    os.chdir(opath)\n",
    "    output2.clear_output()\n",
    "    controloutput1.clear_output()\n",
    "    file1.value=''\n",
    "    file2.value=''\n",
    "    file3.value=''\n",
    "    file4.value=''\n",
    "    file5.value=''\n",
    "    file6.value=''\n",
    "    file7.value=''\n",
    "    file8.value=''\n",
    "    file9.value=''\n",
    "    file10.value=''\n",
    "    csv1.value=''\n",
    "    csv2.value=''\n",
    "    csv3.value=''\n",
    "    csv4.value=''\n",
    "    csv5.value=''\n",
    "    csv6.value=''\n",
    "    figname.value='Untitled'\n",
    "\n",
    "def data(button):\n",
    "    opath=os.getcwd()\n",
    "    os.chdir(loc.value)\n",
    "    os.system('cp {0}.csv {1}.csv'.format(dataoldname.value,dataname.value))\n",
    "    os.system('rm {0}.csv'.format(dataoldname.value))\n",
    "    os.system('rm ot.csv'.format(dataoldname.value))\n",
    "    if delete.value==True:\n",
    "        os.system('rm {0}.csv'.format(csv1.value))\n",
    "        os.system('rm {0}.csv'.format(csv2.value))\n",
    "        os.system('rm {0}.csv'.format(csv3.value))\n",
    "        os.system('rm {0}.csv'.format(csv4.value))\n",
    "        os.system('rm {0}.csv'.format(csv5.value))\n",
    "        os.system('rm {0}.csv'.format(csv6.value))\n",
    "    os.chdir(opath)\n",
    "    output3.clear_output()\n",
    "    file1.value=''\n",
    "    file2.value=''\n",
    "    file3.value=''\n",
    "    file4.value=''\n",
    "    file5.value=''\n",
    "    file6.value=''\n",
    "    file7.value=''\n",
    "    file8.value=''\n",
    "    file9.value=''\n",
    "    file10.value=''\n",
    "    csv1.value=''\n",
    "    csv2.value=''\n",
    "    csv3.value=''\n",
    "    csv4.value=''\n",
    "    csv5.value=''\n",
    "    csv6.value=''\n",
    "    dataname.value='Untitled'\n",
    "\n",
    "def pattern1(fig_pattern,datatype,showenergy):\n",
    "    output2.clear_output()\n",
    "    output3.clear_output()\n",
    "    opath=os.getcwd()\n",
    "    os.chdir(loc.value)\n",
    "    sonbox=[]\n",
    "    sonbox2=[]\n",
    "    files=[file1.value,file2.value,file3.value,file4.value,file5.value,file6.value,file7.value,file8.value,file9.value,file10.value]\n",
    "    if files==['','','','','','','','','','']:\n",
    "        return None\n",
    "    for file in files:\n",
    "        try:\n",
    "            if datatype=='Energy':\n",
    "                data2=status(file).converged_energy()\n",
    "            elif datatype=='Gibbs':\n",
    "                data2=status(file).gibbs()\n",
    "            sonbox.append(data2)\n",
    "            sonbox2.append(data2)\n",
    "            sonbox2.append(data2)\n",
    "        except:\n",
    "            sonbox.append(49999)\n",
    "            sonbox2.append(49999)\n",
    "            sonbox2.append(49999)\n",
    "    num=[1,2,3,4,5,6,7,8,9,10]\n",
    "    if sonbox.count(49999)>=5:\n",
    "        num2=[0.9,1.1,1.9,2.1,2.9,3.1,3.9,4.1,4.9,5.1,5.9,6.1,6.9,7.1,7.9,8.1,8.9,9.1,9.9,10.1]\n",
    "    elif sonbox.count(49999)<5:\n",
    "        num2=[0.8,1.2,1.8,2.2,2.8,3.2,3.8,4.2,4.8,5.2,5.8,6.2,6.8,7.2,7.8,8.2,8.8,9.2,9.8,10.2]\n",
    "    Ebar=np.array(sonbox)\n",
    "    Ebar=Ebar-sonbox[0]\n",
    "    Ebar=Ebar*627.509\n",
    "    Ebar.tolist()\n",
    "    for i in range(len(Ebar)):\n",
    "        if Ebar[i]>=40000:\n",
    "            Ebar[i]=None\n",
    "    Emax=-99999\n",
    "    for E in Ebar:\n",
    "        try:\n",
    "            if E>Emax:\n",
    "                Emax=E\n",
    "        except:\n",
    "            pass\n",
    "    Ebar2=np.array(sonbox2)\n",
    "    Ebar2=Ebar2-sonbox2[0]\n",
    "    Ebar2=Ebar2*627.509\n",
    "    Ebar2.tolist()\n",
    "    for i in range(len(Ebar2)):\n",
    "        if Ebar2[i]>=40000:\n",
    "            Ebar2[i]=None\n",
    "    Emin=min(Ebar)\n",
    "    gap=Emax-Emin\n",
    "    if fig_pattern=='line':\n",
    "        ax=sns.scatterplot(x=num,y=Ebar,color='black',alpha=0.5)\n",
    "        ax.plot(num2,Ebar2)\n",
    "    elif fig_pattern=='bar':\n",
    "        ax=plt.bar(num,Ebar)\n",
    "    plt.xlabel('Step')\n",
    "    if datatype=='Energy':\n",
    "        plt.ylabel('∆E(kcal/mol)')\n",
    "    elif datatype=='Gibbs':\n",
    "        plt.ylabel('∆G(kcal/mol)')\n",
    "    for i in range(len(Ebar)):\n",
    "        if showenergy==False:\n",
    "            break\n",
    "        if Ebar[i]==None:\n",
    "            continue\n",
    "        if files[i]=='':\n",
    "            continue\n",
    "        if Emax-Ebar[i]<=5.0:\n",
    "            if sonbox.count(49999)>=5:\n",
    "                plt.text(num[i]+0.2, Ebar[i]-0.02*gap, '{0}\\n{1:.1f}'.format(files[i],Ebar[i]),horizontalalignment='right',verticalalignment='top')\n",
    "            elif sonbox.count(49999)<5:\n",
    "                plt.text(num[i]+0.4, Ebar[i]-0.02*gap, '{0}\\n{1:.1f}'.format(files[i],Ebar[i]),horizontalalignment='right',verticalalignment='top')\n",
    "        elif Ebar[i]-Emin<=5.0:\n",
    "            if sonbox.count(49999)>=5:\n",
    "                plt.text(num[i]-0.1, Ebar[i]+0.02*gap, '{0}\\n{1:.1f}'.format(files[i],Ebar[i]))\n",
    "            elif sonbox.count(49999)<5:\n",
    "                plt.text(num[i]-0.3, Ebar[i]+0.02*gap, '{0}\\n{1:.1f}'.format(files[i],Ebar[i]))\n",
    "        else:\n",
    "            if sonbox.count(49999)>=5:\n",
    "                plt.text(num[i]-0.15, Ebar[i]+0.02*gap, '{0}\\n{1:.1f}'.format(files[i],Ebar[i]))\n",
    "            elif sonbox.count(49999)<5:\n",
    "                plt.text(num[i]-0.35, Ebar[i]+0.02*gap, '{0}\\n{1:.1f}'.format(files[i],Ebar[i]))\n",
    "    #plt.ylim(min(Ebar)-4,max(EBar)+4)\n",
    "    plt.savefig('{0}.png'.format(figname.value),bbox_inches='tight')\n",
    "    with output2:\n",
    "        plt.show()\n",
    "    #with controloutput1:\n",
    "        #display(widgets.HBox([widgets.Label('Figure Pattern: '),fig_pattern]))\n",
    "        #display(widgets.VBox([widgets.HBox([widgets.Label('Curve Name: '),figname]),savefig]))\n",
    "    try:\n",
    "        f=open('{0}.csv'.format(dataname.value),'x')\n",
    "    except:\n",
    "        f=open('{0}.csv'.format(dataname.value),'w')\n",
    "    f.write('Step,')\n",
    "    f.write('File,')\n",
    "    if datatype=='Energy':\n",
    "        f.write('∆E')\n",
    "    elif datatype=='Gibbs':\n",
    "        f.write('∆G')\n",
    "    #if hartree==True:\n",
    "    #    f.write('(Hartree)')\n",
    "    #else:\n",
    "    f.write('(kcal/mol)\\n')\n",
    "    for i in range(len(num)):\n",
    "        if Ebar[i]==None:\n",
    "            f.write('{0},,\\n'.format(num[i]))\n",
    "        else:\n",
    "            f.write('{0},{1},{2}\\n'.format(num[i],files[i],Ebar[i]))\n",
    "    f.close()\n",
    "    with output3:\n",
    "        csv=pd.read_csv('{0}.csv'.format(dataname.value))\n",
    "        display(csv)\n",
    "    with output3:\n",
    "        display(widgets.VBox([widgets.HBox([widgets.Label('CSV Table Name'),dataname]),savedata]))\n",
    "    dataoldname.value=dataname.value\n",
    "    figoldname.value=figname.value\n",
    "    os.chdir(opath)\n",
    "    \n",
    "def shows(button):\n",
    "    controloutput1.clear_output()\n",
    "    output2.clear_output()\n",
    "    output3.clear_output()\n",
    "    opath=os.getcwd()\n",
    "    os.chdir(loc.value)\n",
    "    with controloutput1:\n",
    "        display(widgets.HBox([widgets.Label('Figure Pattern: '),fig_pattern]))\n",
    "        display(widgets.VBox([widgets.HBox([widgets.Label('Curve Name'),figname]),savefig]))\n",
    "        display(widgets.HBox([widgets.Label('Show Energy'),showenergy]))\n",
    "    dataoldname.value=dataname.value\n",
    "    figoldname.value=figname.value\n",
    "    dataout=widgets.interactive_output(pattern1,{'fig_pattern': fig_pattern,'datatype': datatype,'showenergy': showenergy})\n",
    "    os.chdir(opath)\n",
    "\n",
    "def shows2(button):\n",
    "    controloutput1.clear_output()\n",
    "    output2.clear_output()\n",
    "    output3.clear_output()\n",
    "    opath=os.getcwd()\n",
    "    os.chdir(loc.value)\n",
    "    sonbox2=[]\n",
    "    csvs=[csv1.value,csv2.value,csv3.value,csv4.value,csv5.value,csv6.value]\n",
    "    allcsv=[]\n",
    "    site=[]\n",
    "    name=[]\n",
    "    try:\n",
    "        f=open('ot.csv','x')\n",
    "    except:\n",
    "        f=open('ot.csv','w')\n",
    "    \n",
    "    for csv in csvs:\n",
    "        csv=csv+'.csv'\n",
    "        try:\n",
    "            datum=pd.read_csv(csv)\n",
    "        except:\n",
    "            warnings.warn(\"'{0}' is not found.\".format(csv))\n",
    "            continue\n",
    "        try:\n",
    "            datum=datum[:].sort_values(by=['Step'])\n",
    "        except:\n",
    "            warnings.warn(\"'{0}' is not the file aboue stress-strain curve.\".format(csv))\n",
    "            continue\n",
    "        for num in datum['Step']:\n",
    "            if num not in site:\n",
    "                site.append(num)\n",
    "    site.sort()\n",
    "    f.write('Step\\n')\n",
    "    for num in site:\n",
    "        f.write('{0:.3f}\\n'.format(num))\n",
    "    f.close()\n",
    "    \n",
    "    figoldname.value='ot'\n",
    "    dataoldname.value='ot'\n",
    "    \n",
    "    ot=pd.read_csv('ot.csv')\n",
    "    for csv in csvs:\n",
    "        csv=csv+'.csv'\n",
    "        xo=0\n",
    "        try:\n",
    "            r=open(csv,'r')\n",
    "        except:\n",
    "            continue\n",
    "        for line in r:\n",
    "            print(line)\n",
    "            z=re.search('G',line)\n",
    "            if z:\n",
    "                xo=1\n",
    "                break\n",
    "        r.close()\n",
    "        try:\n",
    "            datum=pd.read_csv(csv)\n",
    "        except:\n",
    "            continue\n",
    "        datum=datum[:].sort_values(by=['Step'])\n",
    "        step=[]\n",
    "        imE=[]\n",
    "        \n",
    "        if xo==0:\n",
    "            for i in datum['Step']:\n",
    "                if datum['∆E(kcal/mol)'].isnull().sum()>=5:\n",
    "                    step.append(i-0.1)\n",
    "                    step.append(i+0.1)\n",
    "                else:\n",
    "                    step.append(i-0.2)\n",
    "                    step.append(i+0.2)\n",
    "            for iE in datum['∆E(kcal/mol)']:\n",
    "                imE.append(iE)\n",
    "                imE.append(iE)\n",
    "            ax=sns.scatterplot(data=datum,x=datum['Step'],y=datum['∆E(kcal/mol)'],alpha=0.5)\n",
    "            ax=plt.plot(step,imE,label=csv[:-4])\n",
    "            #elif fig_pattern=='bar':\n",
    "            #    \n",
    "            datum=datum.rename(columns={'∆E(kcal/mol)':'∆E_{0}(kcal/mol)'.format(csv[:-4])})\n",
    "        elif xo==1:\n",
    "            for i in datum['Step']:\n",
    "                if datum['∆G(kcal/mol)'].isnull().sum()>=5:\n",
    "                    step.append(i-0.1)\n",
    "                    step.append(i+0.1)\n",
    "                else:\n",
    "                    step.append(i-0.2)\n",
    "                    step.append(i+0.2)\n",
    "            for iE in datum['∆G(kcal/mol)']:\n",
    "                imE.append(iE)\n",
    "                imE.append(iE)\n",
    "            ax=sns.scatterplot(data=datum,x=datum['Step'],y=datum['∆G(kcal/mol)'],alpha=0.5)\n",
    "            ax=plt.plot(step,imE,label=csv[:-4])\n",
    "            datum=datum.rename(columns={'∆G(kcal/mol)':'∆G_{0}(kcal/mol)'.format(csv[:-4])})\n",
    "        datum=datum.rename(columns={'File':'File_{0}'.format(csv[:-4])})\n",
    "        #if hartree==True:\n",
    "        ot=pd.merge_ordered(ot, datum, fill_method=\"ffill\" , left_by=\"Step\")\n",
    "        name.append(csv[:-4])\n",
    "    \n",
    "    with output3:\n",
    "        ot=ot.set_index('Step')\n",
    "        display(ot)\n",
    "        ot.to_csv('ot.csv')\n",
    "        display(widgets.VBox([widgets.HBox([widgets.Label('CSV Table Name'),dataname]),savedata,widgets.HBox([widgets.Label('Delete all combined files'),delete])]))\n",
    "    \n",
    "    plt.xlabel('Steps')\n",
    "    plt.ylabel('Energy(kcal/mol)')\n",
    "    plt.legend()\n",
    "    with output2:\n",
    "        plt.savefig('ot.png',bbox_inches='tight')\n",
    "        plt.show()\n",
    "    with controloutput1:\n",
    "        #display(widgets.HBox([widgets.Label('Figure Pattern: '),fig_pattern]))\n",
    "        display(widgets.VBox([widgets.HBox([widgets.Label('Curve Name'),figname]),savefig,widgets.HBox([widgets.Label('Delete all combined files'),delete]),\\\n",
    "                             widgets.HBox([widgets.Label('Show Energy'),showenergy])]))\n",
    "        \n",
    "output=widgets.Output()\n",
    "output2=widgets.Output()\n",
    "output3=widgets.Output()\n",
    "output4=widgets.Output()\n",
    "controloutput1=widgets.Output()\n",
    "\n",
    "loc=widgets.Text(description='Location:',value='./')\n",
    "options=[]\n",
    "title1=widgets.Label('File Settings:',style=dict(font_weight='bold'))\n",
    "loc=widgets.Text(description='Location:',value='./')\n",
    "for path in os.listdir(loc.value):\n",
    "    if os.path.isfile(os.path.join(loc.value, path)):\n",
    "        a=re.search('.out', path)\n",
    "        if a:\n",
    "            options.append(path[:-4])\n",
    "options.sort()\n",
    "\n",
    "file1=widgets.Combobox(placeholder='Input the file name',options=options,\n",
    "         description='ORCA File 1',layout=widgets.Layout(width='98.5%'))\n",
    "file2=widgets.Combobox(placeholder='Input the file name',options=options,\n",
    "         description='ORCA File 2',layout=widgets.Layout(width='98.5%'))\n",
    "file3=widgets.Combobox(placeholder='Input the file name',options=options,\n",
    "         description='ORCA File 3',layout=widgets.Layout(width='98.5%'))\n",
    "file4=widgets.Combobox(placeholder='Input the file name',options=options,\n",
    "         description='ORCA File 4',layout=widgets.Layout(width='98.5%'))\n",
    "file5=widgets.Combobox(placeholder='Input the file name',options=options,\n",
    "         description='ORCA File 5',layout=widgets.Layout(width='98.5%'))\n",
    "file6=widgets.Combobox(placeholder='Input the file name',options=options,\n",
    "         description='ORCA File 6',layout=widgets.Layout(width='98.5%'))\n",
    "file7=widgets.Combobox(placeholder='Input the file name',options=options,\n",
    "         description='ORCA File 7',layout=widgets.Layout(width='98.5%'))\n",
    "file8=widgets.Combobox(placeholder='Input the file name',options=options,\n",
    "         description='ORCA File 8',layout=widgets.Layout(width='98.5%'))\n",
    "file9=widgets.Combobox(placeholder='Input the file name',options=options,\n",
    "         description='ORCA File 9',layout=widgets.Layout(width='98.5%'))\n",
    "file10=widgets.Combobox(placeholder='Input the file name',options=options,\n",
    "         description='ORCA File 10',layout=widgets.Layout(width='98.5%'))\n",
    "\n",
    "options2=[]\n",
    "title2=widgets.Label('Combination Settings:',style=dict(font_weight='bold'))\n",
    "loc=widgets.Text(description='Location:',value='./')\n",
    "for path in os.listdir(loc.value):\n",
    "    if os.path.isfile(os.path.join(loc.value, path)):\n",
    "        a=re.search('.csv', path)\n",
    "        if a:\n",
    "            options2.append(path[:-4])\n",
    "options2.sort()\n",
    "csv1=widgets.Combobox(placeholder='Input the file name',options=options2,\n",
    "         description='CSV File 1',layout=widgets.Layout(width='98.5%'))\n",
    "csv2=widgets.Combobox(placeholder='Input the file name',options=options2,\n",
    "         description='CSV File 2',layout=widgets.Layout(width='98.5%'))\n",
    "csv3=widgets.Combobox(placeholder='Input the file name',options=options2,\n",
    "         description='CSV File 3',layout=widgets.Layout(width='98.5%'))\n",
    "csv4=widgets.Combobox(placeholder='Input the file name',options=options2,\n",
    "         description='CSV File 4',layout=widgets.Layout(width='98.5%'))\n",
    "csv5=widgets.Combobox(placeholder='Input the file name',options=options2,\n",
    "         description='CSV File 5',layout=widgets.Layout(width='98.5%'))\n",
    "csv6=widgets.Combobox(placeholder='Input the file name',options=options2,\n",
    "         description='CSV File 6',layout=widgets.Layout(width='98.5%'))\n",
    "\n",
    "showcurve=widgets.Button(description='Create Curve and Table',layout=widgets.Layout(width='98.5%'),style=dict(font_weight='bold',text_decoration='underline'))\n",
    "showcurve2=widgets.Button(description='Create Curve and Table',layout=widgets.Layout(width='98.5%'),style=dict(font_weight='bold',text_decoration='underline'))\n",
    "datatype=widgets.Dropdown(description='Data Need:',options=['Energy','Gibbs'],value='Energy',layout=widgets.Layout(width='98.5%'))\n",
    "fig_pattern=widgets.Dropdown(options=['line','bar'],value='line',layout=widgets.Layout(width='80%'))\n",
    "dataname=widgets.Text(value='Untitled')\n",
    "dataoldname=widgets.Text()\n",
    "savedata=widgets.Button(description='Save CSV Table',layout=widgets.Layout(width='98.5%'))\n",
    "figname=widgets.Text(value='Untitled')\n",
    "figoldname=widgets.Text()\n",
    "savefig=widgets.Button(description='Save Curve',layout=widgets.Layout(width='98.5%'))\n",
    "delete=widgets.Checkbox()\n",
    "showenergy=widgets.Checkbox()\n",
    "\n",
    "showcurve.on_click(shows)\n",
    "showcurve2.on_click(shows2)\n",
    "savedata.on_click(data)\n",
    "savefig.on_click(fig)\n",
    "\n",
    "with output:\n",
    "    display(widgets.VBox([loc,title1,file1,file2,file3,file4,file5,file6,file7,file8,file9,file10,datatype,showcurve]))\n",
    "\n",
    "with output4:\n",
    "    display(widgets.VBox([loc,title2,csv1,csv2,csv3,csv4,csv5,csv6,showcurve2]))\n",
    "\n",
    "box_layout1 = widgets.Layout(display='flex', flew_flow='column', overflow='scroll hidden',\\\n",
    "            align_items='stretch', border='solid', height='550px', width='26%')\n",
    "box_layout2 = widgets.Layout(display='flex', flew_flow='column', overflow='scroll hidden',\\\n",
    "            align_items='stretch', border='solid', height='550px', width='37%')\n",
    "frame1=widgets.Output()\n",
    "#frame1=widgets.VBox([output1,output4])\n",
    "frame2=widgets.VBox([output2,controloutput1])\n",
    "frame1.layout=box_layout1\n",
    "frame2.layout=box_layout2\n",
    "output3.layout=box_layout2\n",
    "\n",
    "l = widgets.jslink((dataname, 'value'), (figname, 'value'))\n",
    "\n",
    "accordion = widgets.Accordion(children=[output, output4], titles=('Create Result', 'Result Combination'),layout=widgets.Layout(width='98.5%'))\n",
    "with frame1:\n",
    "    display(accordion)\n",
    "\n",
    "display(widgets.HBox([frame1,frame2,output3]))"
   ]
  },
  {
   "cell_type": "code",
   "execution_count": 8,
   "id": "4fa47ce1-d1be-48c3-ac44-1471014fbaee",
   "metadata": {},
   "outputs": [
    {
     "data": {
      "application/vnd.jupyter.widget-view+json": {
       "model_id": "b82d54f399804d29a06b4bf402d40104",
       "version_major": 2,
       "version_minor": 0
      },
      "text/plain": [
       "HBox(children=(VBox(children=(Output(), Output()), layout=Layout(border_bottom='2px solid black', border_left=…"
      ]
     },
     "metadata": {},
     "output_type": "display_data"
    }
   ],
   "source": [
    "import numpy as np\n",
    "from ase.io import read, write\n",
    "from ase import Atoms\n",
    "from ase.visualize import view\n",
    "from MCPoly import view3d\n",
    "from MCPoly.moldraw import molecule\n",
    "from MCPoly.orcaset import view3dchoose\n",
    "import ipywidgets as widgets\n",
    "from IPython.display import display\n",
    "from rdkit import Chem\n",
    "from rdkit.Chem import AllChem\n",
    "from ipywidgets import interact\n",
    "import os\n",
    "import re\n",
    "import py3Dmol\n",
    "\n",
    "def smi2conf(smiles):\n",
    "    '''Convert SMILES to rdkit.Mol with 3D coordinates'''\n",
    "    mol = Chem.MolFromSmiles(smiles)\n",
    "    if mol is not None:\n",
    "        mol = Chem.AddHs(mol)\n",
    "        AllChem.EmbedMolecule(mol)\n",
    "        return mol\n",
    "    else:\n",
    "        return None\n",
    "\n",
    "def MolTo3DView(mol,size=(400,550),surface=False,opacity=0.5):\n",
    "    \"\"\"Draw molecule in 3D (Not Origin)\n",
    "    \n",
    "    Args:\n",
    "    ----\n",
    "        mol: rdMol, molecule to show\n",
    "        size: tuple(int, int), canvas size\n",
    "        style: str, type of drawing molecule\n",
    "               style can be 'line', 'stick', 'sphere', 'cartoon'\n",
    "        surface, bool, display SAS\n",
    "        opacity, float, opacity of surface, range 0.0-1.0\n",
    "    Return:\n",
    "    ----\n",
    "        viewer: py3Dmol.view, a class for constructing embedded 3Dmol.js views in ipython notebooks.\n",
    "    \"\"\"\n",
    "    mblock = Chem.MolToMolBlock(mol)\n",
    "    viewer = py3Dmol.view(width=size[0],height=size[1])\n",
    "    viewer.addModel(mblock,'mol')\n",
    "    viewer.setStyle({'sphere':{'radius':0.4},'stick':{'radius':0.1}})\n",
    "    if surface:\n",
    "        viewer.addSurface(py3Dmol.SAS, {'opacity': opacity})\n",
    "    viewer.zoomTo()\n",
    "    Chem.MolToXYZFile(mol,'Mole_Untitled.xyz')\n",
    "    return viewer\n",
    "\n",
    "def outputmol1(button):\n",
    "    output.clear_output()\n",
    "    output2.clear_output()\n",
    "    placeoutput.clear_output()\n",
    "    strictoutput1.clear_output()\n",
    "    strictoutput2.clear_output()\n",
    "    strictoutput3.clear_output()\n",
    "    angleoutput.clear_output()\n",
    "    shuffleoutput.clear_output()\n",
    "    strictadd2.value=False\n",
    "    strictadd3.value=False\n",
    "    with output:\n",
    "        if button.description=='pyrrole':\n",
    "            place.max=5\n",
    "            with placeoutput:\n",
    "                display(place)\n",
    "        if button.description=='Py':\n",
    "            place.max=6\n",
    "            with placoutput:\n",
    "                display(place)\n",
    "        if button.description=='cyclo3':\n",
    "            strictnum1.max=3\n",
    "        elif button.description=='cyclo5':\n",
    "            strictnum1.max=5\n",
    "            strictnum2.max=5\n",
    "        elif button.description=='cyclo6':\n",
    "            strictnum1.max=6\n",
    "            strictnum2.max=6\n",
    "            strictnum3.max=6\n",
    "        if button.description in ['C2H3','C=NH','Ph','Py','pyrrole','cyclo5','cyclo6','Bpin','bicyclo[2.2.1]','bicyclo[2.2.2]']:\n",
    "            with shuffleoutput:\n",
    "                display(shuffle)\n",
    "        if button.description!='cyclo3' and button.description!='cyclo5' and button.description!='cyclo6':\n",
    "            pass\n",
    "        elif button.description=='cyclo3':\n",
    "            with strictoutput1:\n",
    "                display(widgets.VBox([strictnum1,widgets.HBox([strictele1])]))\n",
    "        else:\n",
    "            with strictoutput1:\n",
    "                display(widgets.VBox([strictnum1,widgets.HBox([strictele1,strictadd2])]))\n",
    "        if button.description=='OH' or button.description=='OMe' or button.description=='SH' or button.description=='SMe':\n",
    "            with angleoutput:\n",
    "                display(widgets.HBox([angle,angleavail]))\n",
    "        buttonname.value=button.description\n",
    "        display(widgets.VBox([i,state,placeoutput,strictoutput1,strictoutput2,strictoutput3,shuffleoutput,angleoutput]))\n",
    "        display(settle)\n",
    "\n",
    "def outputmol2(button):\n",
    "    output.clear_output()\n",
    "    output2.clear_output()\n",
    "    placeoutput.clear_output()\n",
    "    strictoutput1.clear_output()\n",
    "    strictoutput2.clear_output()\n",
    "    strictoutput3.clear_output()\n",
    "    angleoutput.clear_output()\n",
    "    shuffleoutput.clear_output()\n",
    "    strictadd2.value=False\n",
    "    strictadd3.value=False\n",
    "    with output:\n",
    "        state1.options=[('1',1),('2',2),('6',6)]\n",
    "        state2.options=[('1',1),('2',2),('6',6)]\n",
    "        if button.description=='bind3':\n",
    "            strictnum1.max=1\n",
    "        elif button.description=='bind5' or button.description=='bindconj5':\n",
    "            strictnum1.max=3\n",
    "            strictnum2.max=3\n",
    "        elif button.description=='bind6' or button.description=='bindconj6':\n",
    "            strictnum1.max=4\n",
    "            strictnum2.max=4\n",
    "        if button.description not in ['bind2','bindconj5','bindconj6']:\n",
    "            with shuffleoutput:\n",
    "                display(shuffle)\n",
    "        if button.description=='bind2':\n",
    "            pass\n",
    "        elif button.description=='bind3':\n",
    "            with strictoutput1:\n",
    "                display(widgets.VBox([strictnum1,widgets.HBox([strictele1])]))\n",
    "        else:\n",
    "            with strictoutput1:\n",
    "                display(widgets.VBox([strictnum1,widgets.HBox([strictele1,strictadd2])]))\n",
    "        buttonname.value=button.description\n",
    "        display(widgets.VBox([widgets.HBox([i1,state1]),widgets.HBox([i2,state2]),strictoutput1,strictoutput2,side,shuffle,less5,stable]))\n",
    "        display(settle)\n",
    "        \n",
    "def outputmol3(button):\n",
    "    output.clear_output()\n",
    "    with output:\n",
    "        state1.options=[('1',1),('2',2),('6',6),('7',7),('8',8),('82',82)]\n",
    "        state2.options=[('1',1),('2',2),('6',6),('7',7),('8',8),('82',82)]\n",
    "        buttonname.value=button.description\n",
    "        display(widgets.VBox([i,state1,state2]))\n",
    "        display(settle)\n",
    "        \n",
    "def clear(button):\n",
    "    output.clear_output()\n",
    "    output2.clear_output()\n",
    "\n",
    "def openf(button):\n",
    "    with output3:\n",
    "        view3d(file.value,loc.value,width=400,height=500)\n",
    "        display(widgets.HBox([savename,savefile]))\n",
    "    output0.clear_output()\n",
    "    global atoms\n",
    "    atoms=molecule(file.value,loc.value)\n",
    "    with output0:\n",
    "        display(widgets.VBox([allchoose,stack]))\n",
    "\n",
    "def smartshow(smart):\n",
    "    os.system('rm Mole_Untitled.xyz')\n",
    "    output3.clear_output()\n",
    "    with output3:\n",
    "        try:\n",
    "            conf = smi2conf(smart)\n",
    "            return MolTo3DView(conf).show()\n",
    "        except:\n",
    "            return None\n",
    "\n",
    "def smartset(button):\n",
    "    output3.clear_output()\n",
    "    with output3:\n",
    "        view3d('Mole_Untitled',loc.value,width=400,height=500)\n",
    "        display(widgets.HBox([savename,savefile]))\n",
    "    output0.clear_output()\n",
    "    file.value='Mole_Untitled'\n",
    "    global atoms\n",
    "    atoms=molecule('Mole_Untitled',loc.value)\n",
    "    with output0:\n",
    "        display(widgets.VBox([allchoose,stack]))\n",
    "\n",
    "def saveset(button):\n",
    "    output0.clear_output()\n",
    "    output.clear_output()\n",
    "    output3.clear_output()\n",
    "    atoms.xyzwrite(savename.value)\n",
    "    os.system('rm Mole_Untitled.xyz')\n",
    "    file.value=''\n",
    "    with output0:\n",
    "        display(widgets.VBox([loc,widgets.HBox([file,openfile]),widgets.Label('OR',style=dict(font_weight='bold',text_decoration='underline')),\\\n",
    "                          widgets.HBox([smart,smartbutton])]))\n",
    "\n",
    "def settlechange(button):\n",
    "    if choose.value=='Substrates':\n",
    "        if buttonname.value=='cyclo3':\n",
    "            if strictele1[0]=='X':\n",
    "                atoms.sub(buttonname.value,i.value,state.value,place.value,shuffle=shuffle.value,angle=angle.value)\n",
    "            else:\n",
    "                atoms.sub(buttonname.value,i.value,state.value,place.value,strict={strictnum1:strictele1},shuffle=shuffle.value,angle=angle.value)\n",
    "        elif buttonname.value=='cyclo5':\n",
    "            if strictele1[0]=='X':\n",
    "                atoms.sub(buttonname.value,i.value,state.value,place.value,shuffle=shuffle.value,angle=angle.value)\n",
    "            elif strictadd2==False:\n",
    "                atoms.sub(buttonname.value,i.value,state.value,place.value,strict={strictnum1:strictele1},shuffle=shuffle.value,angle=angle.value)\n",
    "            else:\n",
    "                atoms.sub(buttonname.value,i.value,state.value,place.value,strict={strictnum1:strictele1,strictnum2:strictele2},shuffle=shuffle.value,angle=angle.value)\n",
    "        elif buttonname.value=='cyclo6':\n",
    "            if strictele1[0]=='X':\n",
    "                atoms.sub(buttonname.value,i.value,state.value,place.value,shuffle=shuffle.value,angle=angle.value)\n",
    "            elif strictadd2==False:\n",
    "                atoms.sub(buttonname.value,i.value,state.value,place.value,strict={strictnum1:strictele1},shuffle=shuffle.value,angle=angle.value)\n",
    "            elif strictadd3==False:\n",
    "                atoms.sub(buttonname.value,i.value,state.value,place.value,strict={strictnum1:strictele1,strictnum2:strictele2},shuffle=shuffle.value,angle=angle.value)\n",
    "            else:\n",
    "                atoms.sub(buttonname.value,i.value,state.value,place.value,strict={strictnum1:strictele1,strictnum2:strictele2,strictnum3:strictele3},shuffle=shuffle.value,angle=angle.value)\n",
    "        else:\n",
    "            atoms.sub(buttonname.value,i.value,state.value,place.value,shuffle=shuffle.value,angle=angle.value)\n",
    "    elif choose.value=='Ringbinders':\n",
    "        if buttonname.value=='bind3':\n",
    "            atoms.bind(buttonname.value,[i1.value,i2.value],state=[state1.value,state2.value],place=place.value,strict={strictnum1:strictele1},side=side.value,shuffle=shuffle.value, less5=less5.value, stable=stable.value)\n",
    "        elif buttonname.value in ['SmallChanges','bindconj5','bindconj6']:\n",
    "            if strictele1[0]=='X':\n",
    "                atoms.bind(buttonname.value,[i1.value,i2.value],state=[state1.value,state2.value],place=place.value,side=side.value,shuffle=shuffle.value,less5=less5.value,stable=stable.value)\n",
    "            elif strictadd2==False:\n",
    "                atoms.bind(buttonname.value,[i1.value,i2.value],state=[state1.value,state2.value],place=place.value,strict={strictnum1:strictele1},side=side.value,shuffle=shuffle.value,less5=less5.value,stable=stable.value)\n",
    "            else:\n",
    "                atoms.bind(buttonname.value,[i1.value,i2.value],state=[state1.value,state2.value],place=place.value,strict={strictnum1:strictele1,strictnum2:strictele2},side=side.value,shuffle=shuffle.value,less5=less5.value,stable=stable.value)\n",
    "        else:\n",
    "            atoms.bind(buttonname.value,[i1.value,i2.value],state=[state1.value,state2.value],place=place.value,side=side.value,shuffle=shuffle.value,less5=less5.value,stable=stable.value)\n",
    "    elif choose.value=='SmallChanges':\n",
    "        atoms.C(buttonname.value,i.value,state=[state1.value,state2.value])\n",
    "\n",
    "def strictout2(strictadd2):\n",
    "    strictoutput2.clear_output()\n",
    "    if strictadd2==True:\n",
    "        with strictoutput2:\n",
    "            if buttonname.value=='cyclo5' or buttonname.value=='bind5' or buttonname.value=='bind6' or buttonname.value=='bindconj5' or buttonname.value=='bindconj6':\n",
    "                display(widgets.VBox([strictnum2,strictele2]))\n",
    "            else:\n",
    "                display(widgets.VBox([strictnum2,widgets.HBox([strictele2,strictadd3])]))\n",
    "\n",
    "def strictout3(strictadd3):\n",
    "    strictoutput3.clear_output()\n",
    "    if strictadd3==True:\n",
    "        with strictoutput3:\n",
    "            display(widgets.VBox([strictnum3,strictele3]))\n",
    "\n",
    "def angleavailout(angleavail):\n",
    "    if angleavail==True:\n",
    "        angle.disabled=True\n",
    "    else:\n",
    "        angle.disabled=False\n",
    "\n",
    "def chooseshow(i,i1,i2,choose):\n",
    "    output3.clear_output()\n",
    "    with output3:\n",
    "        try:\n",
    "            if choose=='Substrates':\n",
    "                view3dchoose(file.value,loc.value,choose=[i],width=400,height=500)\n",
    "            elif choose=='Ringbinders':\n",
    "                view3dchoose(file.value,loc.value,choose=[i1,i2],width=400,height=500)\n",
    "            elif choose=='SmallChanges':\n",
    "                view3dchoose(file.value,loc.value,choose=[i],width=400,height=500)\n",
    "            display(widgets.HBox([savename,savefile]))\n",
    "        except:\n",
    "            pass\n",
    "\n",
    "def default(strictele1):\n",
    "    if strictele1=='X(Default)':\n",
    "        strictnum1.value=1\n",
    "        strictadd2.disabled=True\n",
    "    else:\n",
    "        strictadd2.disabled=False\n",
    "\n",
    "output0 = widgets.Output()\n",
    "output = widgets.Output()\n",
    "output2 = widgets.Output()\n",
    "output3 = widgets.Output()\n",
    "strictoutput1 = widgets.Output()\n",
    "strictoutput2 = widgets.Output()\n",
    "strictoutput3 = widgets.Output()\n",
    "angleoutput = widgets.Output()\n",
    "placeoutput = widgets.Output()\n",
    "shuffleoutput = widgets.Output()\n",
    "\n",
    "options=[]\n",
    "loc=widgets.Text(description='Location:',value='./')\n",
    "for path in os.listdir(loc.value):\n",
    "    if os.path.isfile(os.path.join(loc.value, path)):\n",
    "        a=re.search('.xyz', path)\n",
    "        if a:\n",
    "            options.append(path[:-4])\n",
    "file=widgets.Combobox(placeholder='Input the file name',options=options,\n",
    "         description='xyz File:')\n",
    "\n",
    "openfile=widgets.Button(description='Set')\n",
    "openfile.on_click(openf)\n",
    "\n",
    "smart=widgets.Text(description='SMART:',placeholder='Input SMART structure')\n",
    "smartbutton=widgets.Button(description='Set')\n",
    "smartbutton.on_click(smartset)\n",
    "#settle.on_click(settlechange)\n",
    "\n",
    "i=widgets.BoundedIntText(description='Atom Number:',min=0,style={'description_width': 'initial'})\n",
    "state=widgets.Dropdown(description='Environment:',options=[('1',1),('2',2),('4',4),('6',6),('7',7),('8',8),('16',16),('82',82),('162',162),('164',164)],value=1,style={'description_width': 'initial'})\n",
    "place=widgets.BoundedIntText(description='Connect Place:',min=0,value=0,style={'description_width': 'initial'})\n",
    "strictnum1=widgets.BoundedIntText(description='Hetero Place 1:',min=1,value=1,style={'description_width': 'initial'})\n",
    "strictele1=widgets.Dropdown(description='Hetero Elements 1:',options=['N','O','S','X(Default)'],value='X(Default)',style={'description_width': 'initial'})\n",
    "#strictdefault=widgets.ToggleButton(description='default',value=True)\n",
    "strictnum2=widgets.BoundedIntText(description='Hetero Place 2:',min=3,value=3,style={'description_width': 'initial'})\n",
    "strictele2=widgets.Dropdown(description='Hetero Elements 2:',options=['N','O','S'],style={'description_width': 'initial'})\n",
    "strictadd2=widgets.ToggleButton(description='Add',value=False)\n",
    "strictnum3=widgets.BoundedIntText(description='Hetero Place 3:',min=5,value=5,style={'description_width': 'initial'})\n",
    "strictele3=widgets.Dropdown(description='Hetero Elements 3:',options=['N','O','S'],style={'description_width': 'initial'})\n",
    "strictadd3=widgets.ToggleButton(description='Add',value=False)\n",
    "i1=widgets.BoundedIntText(description='Atom Number 1:',min=0,style={'description_width': 'initial'})\n",
    "state1=widgets.Dropdown(description='Environment:',options=[('1',1),('2',2),('6',6)],value=1,style={'description_width': 'initial'})\n",
    "i2=widgets.BoundedIntText(description='Atom Number 2:',min=0,style={'description_width': 'initial'})\n",
    "state2=widgets.Dropdown(description='Environment:',options=[('1',1),('2',2),('6',6)],value=1,style={'description_width': 'initial'})\n",
    "shuffle=widgets.BoundedIntText(description='Shuffle:',min=0,max=3,value=0,style={'description_width': 'initial'})\n",
    "angle=widgets.BoundedFloatText(min=0,max=360,step=0.1,description='Angle:',style={'description_width': 'initial'})\n",
    "angleavail=widgets.ToggleButton(value=False,description='Default',style={'description_width': 'initial'})\n",
    "side=widgets.BoundedIntText(description='Conformer:',min=0,max=3,value=0,style={'description_width': 'initial'})\n",
    "shuffle=widgets.BoundedIntText(description='Shuffle:',min=0,value=0,style={'description_width': 'initial'})\n",
    "less5=widgets.Checkbox(description='Connect with small rings (member<=5)?',style={'description_width': 'initial'})\n",
    "stable=widgets.Checkbox(description='Most Stable structure?',style={'description_width': 'initial'})\n",
    "settle=widgets.Button(description='Set')\n",
    "savename=widgets.Text(description='Save Name:',value='Mole_Untitled')\n",
    "savefile=widgets.Button(description='Save')\n",
    "savefile.on_click(saveset)\n",
    "buttonname=widgets.Text()\n",
    "\n",
    "#file=widgets.Button(description='Set')\n",
    "\n",
    "strict2=widgets.interactive_output(strictout2, {'strictadd2': strictadd2})\n",
    "strict3=widgets.interactive_output(strictout3, {'strictadd3': strictadd3})\n",
    "angleout=widgets.interactive_output(angleavailout, {'angleavail': angleavail})\n",
    "smartout=widgets.interactive_output(smartshow, {'smart': smart})\n",
    "\n",
    "substrates=['F','Cl','Br','I','OH','OMe','SH','SMe','NH2','NMe2','Me','Et','n-Pr','i-Pr','n-Bu','t-Bu','CF3','CCl3','CBr3','CI3','NO2','C2H3','C=NH',\n",
    "          'CHO','COOH','COMe','CN','Ph','pyrrole','Py','cyclo3','cyclo5','cyclo6','SOMe','SO2Me','SO3H','Bpin','bicyclo[2.2.1]','bicyclo[2.2.2]']\n",
    "buttons1=[]\n",
    "for x in substrates:\n",
    "    button=widgets.Button(layout=widgets.Layout(height='30px', min_width='120px'),description=x)\n",
    "    buttons1.append(button)\n",
    "    button.on_click(outputmol1)\n",
    "Substrates=widgets.HBox(children=[buttons1[x] for x in range(len(substrates))])\n",
    "\n",
    "binds=['bind2','bind3','bind5','bind6','bindconj5','bindconj6']\n",
    "buttons2=[]\n",
    "for x in binds:\n",
    "    button=widgets.Button(layout=widgets.Layout(height='30px', min_width='120px'),description=x)\n",
    "    buttons2.append(button)\n",
    "    button.on_click(outputmol2)\n",
    "Ringbinders=widgets.HBox(children=[buttons2[x] for x in range(len(binds))])\n",
    "\n",
    "Cs=['CO','C=NH','O','S','N']\n",
    "buttons3=[]\n",
    "for x in Cs:\n",
    "    button=widgets.Button(layout=widgets.Layout(height='30px', min_width='120px'),description=x)\n",
    "    buttons3.append(button)\n",
    "    button.on_click(outputmol3)\n",
    "SmallChanges=widgets.HBox(children=[buttons3[x] for x in range(len(Cs))])\n",
    "    \n",
    "stack = widgets.Stack([Substrates,Ringbinders,SmallChanges])\n",
    "\n",
    "choose=widgets.Dropdown(options=['Substrates','Ringbinders','SmallChanges'])\n",
    "widgets.jslink((choose,'index'),(stack,'selected_index'))\n",
    "\n",
    "chooseout=widgets.interactive_output(chooseshow, {'i': i, 'i1': i1, 'i2': i2, 'choose': choose})\n",
    "defaultout=widgets.interactive_output(default, {'strictele1': strictele1})\n",
    "\n",
    "box_layout = widgets.Layout(overflow='scroll hidden', border='2px solid black',\n",
    "                    width='65%',height='550px',display='flex')\n",
    "box_layout2 = widgets.Layout(overflow='scroll hidden', border='2px solid black',\n",
    "                    width='35%',height='550px',display='flex')\n",
    "output3.layout=box_layout2\n",
    "clean=widgets.Button(description='Clean Data')\n",
    "clean.on_click(clear)\n",
    "\n",
    "with output0:\n",
    "    display(widgets.VBox([loc,widgets.HBox([file,openfile]),widgets.Label('OR',style=dict(font_weight='bold',text_decoration='underline')),\\\n",
    "                          widgets.HBox([smart,smartbutton])]))\n",
    "\n",
    "allchoose=widgets.HBox([widgets.Label('Choose your step: '),choose,clean])\n",
    "display(widgets.HBox([widgets.VBox([output0,output],layout=box_layout),output3]))"
   ]
  },
  {
   "cell_type": "code",
   "execution_count": 33,
   "id": "1fb36cfe-b882-4924-aea3-fed24d18dca6",
   "metadata": {},
   "outputs": [
    {
     "ename": "TypeError",
     "evalue": "'>' not supported between instances of 'NoneType' and 'float'",
     "output_type": "error",
     "traceback": [
      "\u001b[0;31m---------------------------------------------------------------------------\u001b[0m",
      "\u001b[0;31mTypeError\u001b[0m                                 Traceback (most recent call last)",
      "\u001b[0;32m/var/folders/hp/h3x3qmks4kn3qdcv21z5pm140000gq/T/ipykernel_1295/2599744809.py\u001b[0m in \u001b[0;36m<module>\u001b[0;34m\u001b[0m\n\u001b[0;32m----> 1\u001b[0;31m \u001b[0mmax\u001b[0m\u001b[0;34m(\u001b[0m\u001b[0;34m[\u001b[0m\u001b[0;36m1.2\u001b[0m\u001b[0;34m,\u001b[0m\u001b[0;36m3.5\u001b[0m\u001b[0;34m,\u001b[0m\u001b[0;36m7.2\u001b[0m\u001b[0;34m,\u001b[0m\u001b[0;32mNone\u001b[0m\u001b[0;34m]\u001b[0m\u001b[0;34m)\u001b[0m\u001b[0;34m\u001b[0m\u001b[0;34m\u001b[0m\u001b[0m\n\u001b[0m",
      "\u001b[0;31mTypeError\u001b[0m: '>' not supported between instances of 'NoneType' and 'float'"
     ]
    }
   ],
   "source": [
    "max([1.2,3.5,7.2,None])"
   ]
  },
  {
   "cell_type": "code",
   "execution_count": 41,
   "id": "1cbc226c-e1c4-4e8a-8efd-44ae3888b788",
   "metadata": {},
   "outputs": [
    {
     "name": "stdout",
     "output_type": "stream",
     "text": [
      "nan\n"
     ]
    }
   ],
   "source": [
    "datum=pd.read_csv('Result2.csv')\n",
    "datum=datum[:].sort_values(by=['Step'])\n",
    "print(datum['∆G(kcal/mol)'][9])\n"
   ]
  },
  {
   "cell_type": "code",
   "execution_count": 36,
   "id": "c8e07629-6a16-4fcc-8744-90461f891a9b",
   "metadata": {},
   "outputs": [
    {
     "name": "stdout",
     "output_type": "stream",
     "text": [
      "None\n"
     ]
    }
   ],
   "source": [
    "print(None)"
   ]
  },
  {
   "cell_type": "code",
   "execution_count": 39,
   "id": "7fe49c9e-102c-4685-bf4e-1bfe6c68d52d",
   "metadata": {},
   "outputs": [
    {
     "name": "stdout",
     "output_type": "stream",
     "text": [
      "<NA>\n"
     ]
    }
   ],
   "source": [
    "print(datum['∆G(kcal/mol)'][9]==pd.NA)"
   ]
  },
  {
   "cell_type": "code",
   "execution_count": 47,
   "id": "ea33d0a0-faa2-4337-8e67-14f9077e1515",
   "metadata": {},
   "outputs": [
    {
     "name": "stdout",
     "output_type": "stream",
     "text": [
      "1\n"
     ]
    }
   ],
   "source": [
    "print(datum['∆G(kcal/mol)'].isnull().sum())"
   ]
  },
  {
   "cell_type": "code",
   "execution_count": 2,
   "id": "e6934be5-b49c-4ae4-8aa3-08901462467f",
   "metadata": {},
   "outputs": [
    {
     "data": {
      "text/plain": [
       "3"
      ]
     },
     "execution_count": 2,
     "metadata": {},
     "output_type": "execute_result"
    }
   ],
   "source": [
    "len({1:2,2:3,4:8})"
   ]
  },
  {
   "cell_type": "code",
   "execution_count": 3,
   "id": "70652119-93a9-4d5f-9814-e2193d9e9348",
   "metadata": {},
   "outputs": [
    {
     "data": {
      "text/plain": [
       "[[5], [5], [5], [5], [5]]"
      ]
     },
     "execution_count": 3,
     "metadata": {},
     "output_type": "execute_result"
    }
   ],
   "source": [
    "[[5]]*5"
   ]
  },
  {
   "cell_type": "code",
   "execution_count": 1,
   "id": "9b111942-195c-4874-92e2-5a521f2ee6aa",
   "metadata": {},
   "outputs": [
    {
     "ename": "TypeError",
     "evalue": "eval() arg 1 must be a string, bytes or code object",
     "output_type": "error",
     "traceback": [
      "\u001b[0;31m---------------------------------------------------------------------------\u001b[0m",
      "\u001b[0;31mTypeError\u001b[0m                                 Traceback (most recent call last)",
      "\u001b[0;32m/var/folders/hp/h3x3qmks4kn3qdcv21z5pm140000gq/T/ipykernel_1149/1950141989.py\u001b[0m in \u001b[0;36m<module>\u001b[0;34m\u001b[0m\n\u001b[0;32m----> 1\u001b[0;31m \u001b[0meval\u001b[0m\u001b[0;34m(\u001b[0m\u001b[0;34m[\u001b[0m\u001b[0;34m'2'\u001b[0m\u001b[0;34m]\u001b[0m\u001b[0;34m)\u001b[0m\u001b[0;34m\u001b[0m\u001b[0;34m\u001b[0m\u001b[0m\n\u001b[0m",
      "\u001b[0;31mTypeError\u001b[0m: eval() arg 1 must be a string, bytes or code object"
     ]
    }
   ],
   "source": [
    "eval(['2'])"
   ]
  },
  {
   "cell_type": "code",
   "execution_count": 4,
   "id": "f2b61af8-1250-4840-a5ca-5b93ce512e50",
   "metadata": {},
   "outputs": [
    {
     "data": {
      "application/vnd.jupyter.widget-view+json": {
       "model_id": "fc4177378e56489998c63148812899ae",
       "version_major": 2,
       "version_minor": 0
      },
      "text/plain": [
       "interactive(children=(Text(value='CC', description='smi'), Output()), _dom_classes=('widget-interact',))"
      ]
     },
     "metadata": {},
     "output_type": "display_data"
    }
   ],
   "source": [
    "import py3Dmol\n",
    "from rdkit import Chem\n",
    "from rdkit.Chem import AllChem\n",
    "from ipywidgets import interact\n",
    "\n",
    "def smi2conf(smiles):\n",
    "    '''Convert SMILES to rdkit.Mol with 3D coordinates'''\n",
    "    mol = Chem.MolFromSmiles(smiles)\n",
    "    if mol is not None:\n",
    "        mol = Chem.AddHs(mol)\n",
    "        AllChem.EmbedMolecule(mol)\n",
    "        return mol\n",
    "    else:\n",
    "        return None\n",
    "\n",
    "def MolTo3DView(mol,size=(640,480),surface=False,opacity=0.5):\n",
    "    \"\"\"Draw molecule in 3D (Not Origin)\n",
    "    \n",
    "    Args:\n",
    "    ----\n",
    "        mol: rdMol, molecule to show\n",
    "        size: tuple(int, int), canvas size\n",
    "        style: str, type of drawing molecule\n",
    "               style can be 'line', 'stick', 'sphere', 'cartoon'\n",
    "        surface, bool, display SAS\n",
    "        opacity, float, opacity of surface, range 0.0-1.0\n",
    "    Return:\n",
    "    ----\n",
    "        viewer: py3Dmol.view, a class for constructing embedded 3Dmol.js views in ipython notebooks.\n",
    "    \"\"\"\n",
    "    mblock = Chem.MolToMolBlock(mol)\n",
    "    viewer = py3Dmol.view(width=size[0],height=size[1])\n",
    "    viewer.addModel(mblock,'mol')\n",
    "    viewer.setStyle({'sphere':{'radius':0.4},'stick':{'radius':0.1}})\n",
    "    if surface:\n",
    "        viewer.addSurface(py3Dmol.SAS, {'opacity': opacity})\n",
    "    viewer.zoomTo()\n",
    "    Chem.MolToXYZFile(mol,'Mole_Untitled.xyz')\n",
    "    return viewer\n",
    "\n",
    "@interact\n",
    "def smi2viewer(smi='CC'):\n",
    "    try:\n",
    "        conf = smi2conf(smi)\n",
    "        \n",
    "        return MolTo3DView(conf).show()\n",
    "    except:\n",
    "        return None"
   ]
  },
  {
   "cell_type": "code",
   "execution_count": null,
   "id": "693c5757-6ce3-493e-9681-07bc44413134",
   "metadata": {},
   "outputs": [],
   "source": []
  }
 ],
 "metadata": {
  "kernelspec": {
   "display_name": "Python 3 (ipykernel)",
   "language": "python",
   "name": "python3"
  },
  "language_info": {
   "codemirror_mode": {
    "name": "ipython",
    "version": 3
   },
   "file_extension": ".py",
   "mimetype": "text/x-python",
   "name": "python",
   "nbconvert_exporter": "python",
   "pygments_lexer": "ipython3",
   "version": "3.9.16"
  }
 },
 "nbformat": 4,
 "nbformat_minor": 5
}
